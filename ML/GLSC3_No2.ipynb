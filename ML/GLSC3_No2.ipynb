{
  "nbformat": 4,
  "nbformat_minor": 0,
  "metadata": {
    "colab": {
      "name": "GLSC3_No2.ipynb",
      "provenance": []
    },
    "kernelspec": {
      "name": "python3",
      "display_name": "Python 3"
    },
    "language_info": {
      "name": "python"
    }
  },
  "cells": [
    {
      "cell_type": "markdown",
      "metadata": {
        "id": "CM0scdvpPv6N"
      },
      "source": [
        "#2301931251\n",
        "Daffa Rizki Rizaly"
      ]
    },
    {
      "cell_type": "code",
      "metadata": {
        "id": "hEsiEqaiO3PF"
      },
      "source": [
        "import pandas as pd\n",
        "import numpy as np\n",
        "import matplotlib.pyplot as plt\n",
        "from sklearn.cluster import KMeans"
      ],
      "execution_count": null,
      "outputs": []
    },
    {
      "cell_type": "code",
      "metadata": {
        "colab": {
          "base_uri": "https://localhost:8080/"
        },
        "id": "wpkTZZ1jOZ-h",
        "outputId": "7ca42b36-342c-4315-8102-9df6498b4f12"
      },
      "source": [
        "Data = {'x1': [1.0,1.5,3.0,5.0,3.5,4.5,3.5],\n",
        "        'x2': [1.0,2.0,4.0,7.0,5.0,5.0,4.5]\n",
        "       }\n",
        "df = pd.DataFrame(Data,columns=['x1','x2'])\n",
        "print(df)"
      ],
      "execution_count": null,
      "outputs": [
        {
          "output_type": "stream",
          "text": [
            "    x1   x2\n",
            "0  1.0  1.0\n",
            "1  1.5  2.0\n",
            "2  3.0  4.0\n",
            "3  5.0  7.0\n",
            "4  3.5  5.0\n",
            "5  4.5  5.0\n",
            "6  3.5  4.5\n"
          ],
          "name": "stdout"
        }
      ]
    },
    {
      "cell_type": "code",
      "metadata": {
        "colab": {
          "base_uri": "https://localhost:8080/"
        },
        "id": "sCo1jT9YcYNa",
        "outputId": "8457b76d-2f55-4960-cd43-1c2efcf45327"
      },
      "source": [
        "from sklearn.cluster import KMeans\n",
        "kmeans = KMeans(n_clusters=3)\n",
        "kmeans.fit(df)"
      ],
      "execution_count": null,
      "outputs": [
        {
          "output_type": "execute_result",
          "data": {
            "text/plain": [
              "KMeans(algorithm='auto', copy_x=True, init='k-means++', max_iter=300,\n",
              "       n_clusters=3, n_init=10, n_jobs=None, precompute_distances='auto',\n",
              "       random_state=None, tol=0.0001, verbose=0)"
            ]
          },
          "metadata": {
            "tags": []
          },
          "execution_count": 3
        }
      ]
    },
    {
      "cell_type": "code",
      "metadata": {
        "colab": {
          "base_uri": "https://localhost:8080/",
          "height": 315
        },
        "id": "WS7eqvX4SKNY",
        "outputId": "fc630dc9-281b-4c0c-ad99-a097ffb3f777"
      },
      "source": [
        "kmeans = KMeans(n_clusters=3).fit(df)\n",
        "centroids = kmeans.cluster_centers_\n",
        "print(centroids)\n",
        "\n",
        "plt.scatter(df['x1'], df['x2'], c= kmeans.labels_.astype(float), s=50, alpha=0.5)\n",
        "plt.scatter(centroids[:, 0], centroids[:, 1], c='red', s=50)\n",
        "plt.show()"
      ],
      "execution_count": null,
      "outputs": [
        {
          "output_type": "stream",
          "text": [
            "[[3.625 4.625 1.   ]\n",
            " [1.25  1.5   2.   ]\n",
            " [5.    7.    0.   ]]\n"
          ],
          "name": "stdout"
        },
        {
          "output_type": "display_data",
          "data": {
            "image/png": "[encoded data removed]",
            "text/plain": [
              "<Figure size 432x288 with 1 Axes>"
            ]
          },
          "metadata": {
            "tags": [],
            "needs_background": "light"
          }
        }
      ]
    },
    {
      "cell_type": "code",
      "metadata": {
        "colab": {
          "base_uri": "https://localhost:8080/"
        },
        "id": "h00cCACzXvPL",
        "outputId": "3bbd6fff-20d8-4201-e3bc-9a34c477691e"
      },
      "source": [
        "from sklearn.mixture import GaussianMixture\n",
        "gmm = GaussianMixture(n_components=3)\n",
        "gmm.fit(df)"
      ],
      "execution_count": null,
      "outputs": [
        {
          "output_type": "execute_result",
          "data": {
            "text/plain": [
              "GaussianMixture(covariance_type='full', init_params='kmeans', max_iter=100,\n",
              "                means_init=None, n_components=3, n_init=1, precisions_init=None,\n",
              "                random_state=None, reg_covar=1e-06, tol=0.001, verbose=0,\n",
              "                verbose_interval=10, warm_start=False, weights_init=None)"
            ]
          },
          "metadata": {
            "tags": []
          },
          "execution_count": 5
        }
      ]
    },
    {
      "cell_type": "code",
      "metadata": {
        "colab": {
          "base_uri": "https://localhost:8080/",
          "height": 265
        },
        "id": "pPqjeAtNZOVa",
        "outputId": "224b7b59-1548-491f-ac05-00686d73ad22"
      },
      "source": [
        "#predictions from gmm\n",
        "labels = gmm.predict(df)\n",
        "frame = pd.DataFrame(df)\n",
        "frame['cluster'] = labels\n",
        "frame.columns = ['x1', 'x2', 'cluster']\n",
        "\n",
        "color=['red','green', 'blue']\n",
        "for k in range(0,3):\n",
        "    data = frame[frame[\"cluster\"]==k]\n",
        "    plt.scatter(data[\"x1\"],data[\"x2\"],c=color[k])\n",
        "plt.show()"
      ],
      "execution_count": null,
      "outputs": [
        {
          "output_type": "display_data",
          "data": {
            "image/png": "[encoded data removed]",
            "text/plain": [
              "<Figure size 432x288 with 1 Axes>"
            ]
          },
          "metadata": {
            "tags": [],
            "needs_background": "light"
          }
        }
      ]
    },
    {
      "cell_type": "markdown",
      "metadata": {
        "id": "iBRII0yYPUpS"
      },
      "source": [
        "Terlihat dari dua metode tersebut memiliki hasil yang sama. Secara teori GMM akan menghasilkan clustering yang lebih akurat karena dapat mengatasi outlier sedangkan k-means kurang tetapi karena data yang kecil dan tidak ada outlier hasil keduanya sama."
      ]
    }
  ]
}