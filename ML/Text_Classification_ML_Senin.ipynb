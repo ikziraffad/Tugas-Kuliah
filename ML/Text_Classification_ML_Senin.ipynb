{
  "nbformat": 4,
  "nbformat_minor": 0,
  "metadata": {
    "colab": {
      "name": "Text_Classification_ML_Senin.ipynb",
      "provenance": []
    },
    "kernelspec": {
      "name": "python3",
      "display_name": "Python 3"
    },
    "language_info": {
      "name": "python"
    }
  },
  "cells": [
    {
      "cell_type": "markdown",
      "metadata": {
        "id": "Xws1LkK27dzB"
      },
      "source": [
        "#**Text Classification**"
      ]
    },
    {
      "cell_type": "markdown",
      "metadata": {
        "id": "ZT8n1r8CMo7I"
      },
      "source": [
        "## Import Library"
      ]
    },
    {
      "cell_type": "code",
      "metadata": {
        "id": "zyMu_THy42vA"
      },
      "source": [
        "import numpy as np\n",
        "import pandas as pd\n",
        "from sklearn.model_selection import train_test_split\n",
        "from sklearn.feature_extraction.text import TfidfVectorizer\n",
        "from sklearn.linear_model import PassiveAggressiveClassifier\n",
        "from sklearn.metrics import accuracy_score, confusion_matrix \n",
        "from sklearn.metrics import plot_confusion_matrix\n",
        "import seaborn as sns"
      ],
      "execution_count": 64,
      "outputs": []
    },
    {
      "cell_type": "markdown",
      "metadata": {
        "id": "P6tABtGGMtRn"
      },
      "source": [
        "## Read Dataset"
      ]
    },
    {
      "cell_type": "code",
      "metadata": {
        "colab": {
          "base_uri": "https://localhost:8080/",
          "height": 0
        },
        "id": "YggHOBFP57wc",
        "outputId": "b2397453-25aa-49f2-ed25-a94c94d14dd1"
      },
      "source": [
        "df = pd.read_csv('/content/dataset (4).csv')\n",
        "df.fillna(' ')\n",
        "df.shape\n",
        "df.head()"
      ],
      "execution_count": 65,
      "outputs": [
        {
          "output_type": "execute_result",
          "data": {
            "text/html": [
              "<div>\n",
              "<style scoped>\n",
              "    .dataframe tbody tr th:only-of-type {\n",
              "        vertical-align: middle;\n",
              "    }\n",
              "\n",
              "    .dataframe tbody tr th {\n",
              "        vertical-align: top;\n",
              "    }\n",
              "\n",
              "    .dataframe thead th {\n",
              "        text-align: right;\n",
              "    }\n",
              "</style>\n",
              "<table border=\"1\" class=\"dataframe\">\n",
              "  <thead>\n",
              "    <tr style=\"text-align: right;\">\n",
              "      <th></th>\n",
              "      <th>No.</th>\n",
              "      <th>Title</th>\n",
              "      <th>Text</th>\n",
              "      <th>Label</th>\n",
              "    </tr>\n",
              "  </thead>\n",
              "  <tbody>\n",
              "    <tr>\n",
              "      <th>0</th>\n",
              "      <td>1</td>\n",
              "      <td>The Brazilian doctor offering bogus Covid reme...</td>\n",
              "      <td>A Brazilian state representative and doctor is...</td>\n",
              "      <td>Fake</td>\n",
              "    </tr>\n",
              "    <tr>\n",
              "      <th>1</th>\n",
              "      <td>2</td>\n",
              "      <td>France puzzled by mystery anti-Pfizer campaign...</td>\n",
              "      <td>Several French social media influencers say th...</td>\n",
              "      <td>Fake</td>\n",
              "    </tr>\n",
              "    <tr>\n",
              "      <th>2</th>\n",
              "      <td>3</td>\n",
              "      <td>Covid-19: YouTube launches vaccination ad camp...</td>\n",
              "      <td>YouTube has launched a multi-million-pound adv...</td>\n",
              "      <td>Fake</td>\n",
              "    </tr>\n",
              "    <tr>\n",
              "      <th>3</th>\n",
              "      <td>4</td>\n",
              "      <td>Israel-Palestinian conflict: False and mislead...</td>\n",
              "      <td>As the Israel-Palestinian conflict has escalat...</td>\n",
              "      <td>Fake</td>\n",
              "    </tr>\n",
              "    <tr>\n",
              "      <th>4</th>\n",
              "      <td>5</td>\n",
              "      <td>The misinformation bubble threatening Brazil's...</td>\n",
              "      <td>False information from the mouths of politicia...</td>\n",
              "      <td>Fake</td>\n",
              "    </tr>\n",
              "  </tbody>\n",
              "</table>\n",
              "</div>"
            ],
            "text/plain": [
              "   No.  ... Label\n",
              "0    1  ...  Fake\n",
              "1    2  ...  Fake\n",
              "2    3  ...  Fake\n",
              "3    4  ...  Fake\n",
              "4    5  ...  Fake\n",
              "\n",
              "[5 rows x 4 columns]"
            ]
          },
          "metadata": {
            "tags": []
          },
          "execution_count": 65
        }
      ]
    },
    {
      "cell_type": "code",
      "metadata": {
        "colab": {
          "base_uri": "https://localhost:8080/"
        },
        "id": "acDtGtjz6W6m",
        "outputId": "3d4e1744-98b3-485b-e079-b90a23a9bb86"
      },
      "source": [
        "labels = df.Label\n",
        "labels.head()"
      ],
      "execution_count": 66,
      "outputs": [
        {
          "output_type": "execute_result",
          "data": {
            "text/plain": [
              "0    Fake\n",
              "1    Fake\n",
              "2    Fake\n",
              "3    Fake\n",
              "4    Fake\n",
              "Name: Label, dtype: object"
            ]
          },
          "metadata": {
            "tags": []
          },
          "execution_count": 66
        }
      ]
    },
    {
      "cell_type": "markdown",
      "metadata": {
        "id": "g7F5VgkRM26F"
      },
      "source": [
        "## Split Dataset"
      ]
    },
    {
      "cell_type": "code",
      "metadata": {
        "id": "oFLfKbcv7It7"
      },
      "source": [
        "x_train, x_test, y_train, y_test = train_test_split(df['Text'], labels, test_size=0.2, random_state=69)"
      ],
      "execution_count": 67,
      "outputs": []
    },
    {
      "cell_type": "markdown",
      "metadata": {
        "id": "9k16WlQjM8pX"
      },
      "source": [
        "## Initialize TF-IDF Vectorizer"
      ]
    },
    {
      "cell_type": "code",
      "metadata": {
        "id": "sdLiu-3Q7L4f"
      },
      "source": [
        "tfidf_vectorizer=TfidfVectorizer(stop_words='english')\n",
        "\n",
        "# Fit, and transform train set, transform test set\n",
        "tfidf_train=tfidf_vectorizer.fit_transform(x_train) \n",
        "tfidf_test=tfidf_vectorizer.transform(x_test)"
      ],
      "execution_count": 68,
      "outputs": []
    },
    {
      "cell_type": "markdown",
      "metadata": {
        "id": "f76-BykuXuFG"
      },
      "source": [
        "## Initialize Passive Aggresive Classifier"
      ]
    },
    {
      "cell_type": "code",
      "metadata": {
        "id": "oHQ-o07g7Pf8"
      },
      "source": [
        "# Initialize a PassiveAggressiveClassifier\n",
        "pac=PassiveAggressiveClassifier(max_iter=100)\n",
        "pac.fit(tfidf_train,y_train)\n",
        "\n",
        "# Predict on the test set\n",
        "y_pred = pac.predict(tfidf_test)"
      ],
      "execution_count": 69,
      "outputs": []
    },
    {
      "cell_type": "markdown",
      "metadata": {
        "id": "5VdiVXH-X2r4"
      },
      "source": [
        "## Evaluation/Accuracy\n"
      ]
    },
    {
      "cell_type": "code",
      "metadata": {
        "colab": {
          "base_uri": "https://localhost:8080/"
        },
        "id": "_yiPxGZNiqkH",
        "outputId": "759600b7-e2cd-4362-a506-d18fa8980264"
      },
      "source": [
        "score = accuracy_score(y_test,y_pred)\n",
        "print(f'Accuracy: {round(score*100,2)}%')"
      ],
      "execution_count": 70,
      "outputs": [
        {
          "output_type": "stream",
          "text": [
            "Accuracy: 80.0%\n"
          ],
          "name": "stdout"
        }
      ]
    },
    {
      "cell_type": "code",
      "metadata": {
        "id": "TUlNMIeR7Tmh",
        "colab": {
          "base_uri": "https://localhost:8080/"
        },
        "outputId": "07534440-9595-47c1-9d04-0b8a93292908"
      },
      "source": [
        "matrix = confusion_matrix(y_test,y_pred)\n",
        "print (matrix)"
      ],
      "execution_count": 71,
      "outputs": [
        {
          "output_type": "stream",
          "text": [
            "[[ 7  7]\n",
            " [ 1 25]]\n"
          ],
          "name": "stdout"
        }
      ]
    },
    {
      "cell_type": "code",
      "metadata": {
        "colab": {
          "base_uri": "https://localhost:8080/",
          "height": 0
        },
        "id": "WqEmnPq3dC8D",
        "outputId": "40fa80bb-da32-4614-c90f-5b6a42b54842"
      },
      "source": [
        "group_names = ['True Negative','False Positive','False Negative','True Positive']\n",
        "group_counts = ['{0:0.0f}'.format(value) for value in\n",
        "                matrix.flatten()]\n",
        "group_percentages = ['{0:.2%}'.format(value) for value in\n",
        "                     matrix.flatten()/np.sum(matrix)]\n",
        "labels = [f'{v1}\\n{v2}\\n{v3}' for v1, v2, v3 in\n",
        "          zip(group_names,group_counts,group_percentages)]\n",
        "labels = np.asarray(labels).reshape(2,2)\n",
        "sns.heatmap(matrix, annot=labels, fmt='', cmap='Blues')"
      ],
      "execution_count": 72,
      "outputs": [
        {
          "output_type": "execute_result",
          "data": {
            "text/plain": [
              "<matplotlib.axes._subplots.AxesSubplot at 0x7f4ff4ae09d0>"
            ]
          },
          "metadata": {
            "tags": []
          },
          "execution_count": 72
        },
        {
          "output_type": "display_data",
          "data": {
            "image/png": "[encoded data removed]",
            "text/plain": [
              "<Figure size 432x288 with 2 Axes>"
            ]
          },
          "metadata": {
            "tags": [],
            "needs_background": "light"
          }
        }
      ]
    }
  ]
}