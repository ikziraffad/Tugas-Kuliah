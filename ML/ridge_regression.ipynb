{
 "cells": [
  {
   "cell_type": "markdown",
   "metadata": {},
   "source": [
    "<img src=\"logo.png\" width=\"200\" align=\"center\">\n",
    "\n",
    "<center> <h1>Ridge Regression (L2 Regularization)</h1> </center>\n"
   ]
  },
  {
   "cell_type": "markdown",
   "metadata": {},
   "source": [
    "## Ridge Regression Solution\n",
    "In the Ridge Regression (L2 Regularization) theory [video](https://youtu.be/skOcLw_fXDs) we derived the solution to be:\n",
    "\n",
    "\\begin{equation}\n",
    "\\hat{\\theta} = (X^TX + \\lambda I)^{-1}X^TY\n",
    "\\end{equation}\n",
    "\n",
    "where\n",
    "\\begin{equation}\n",
    "X = [\\bar{x}^T_1, \\bar{x}^T_2, ... , \\bar{x}^T_n]^T\n",
    "\\end{equation}\n",
    "\n",
    "\\begin{equation}\n",
    "Y = [y_1, y_2, ... , y_n]^T\n",
    "\\end{equation}\n",
    "\n",
    "This solution minimizes the following cost function\n",
    "\n",
    "\\begin{equation}\n",
    "J(x, \\theta, y) = \\sum_{i=1}^{m}(\\theta^T\\bar{x}_i - y_i)^2 + \\lambda ||\\theta||^2\n",
    "\\end{equation}\n"
   ]
  },
  {
   "cell_type": "code",
   "execution_count": null,
   "metadata": {},
   "outputs": [],
   "source": [
    "# import necessary packages\n",
    "import numpy as np\n",
    "import matplotlib.pyplot as plt\n",
    "\n",
    "from sklearn.model_selection import train_test_split"
   ]
  },
  {
   "cell_type": "code",
   "execution_count": null,
   "metadata": {},
   "outputs": [],
   "source": [
    "class Ridge:\n",
    "    \"\"\"Linear least squares with L2 regularization.\"\"\"\n",
    "    \n",
    "    def __init__(self, lam):\n",
    "        \"\"\"Initialize a Ridge object.\n",
    "        \n",
    "        Args:\n",
    "            lam: the regularization factor \n",
    "        \"\"\"\n",
    "        self._lambda = lam\n",
    "        \n",
    "    @staticmethod\n",
    "    def _x_bar(x):\n",
    "        \"\"\"Create the vector x_bar.\n",
    "        \n",
    "        Args:\n",
    "            x: input vector\n",
    "        \"\"\"\n",
    "        return np.hstack(([1.0], x, np.square(x)))\n",
    "    \n",
    "    def fit(self, x_train, y_train):\n",
    "        \"\"\"Generate a fit for the data.\n",
    "        \n",
    "        Args:\n",
    "            x_train: the input values of the training data\n",
    "            y_train: the output values of the training data\n",
    "        \"\"\"\n",
    "        # stack the data\n",
    "        X = np.vstack(([self._x_bar(x) for x in x_train]))\n",
    "        Y = np.vstack(([y for y in y_train]))\n",
    "        \n",
    "        # compute the model coeff\n",
    "        # theta = inv(xTx + lam*I) * xTy\n",
    "        XT = np.transpose(X)\n",
    "        XTX = np.matmul(XT, X) + self._lambda * np.identity(X.shape[1])\n",
    "        self._coeff_hat = np.matmul(np.matmul(np.linalg.inv(XTX), XT), Y)\n"
   ]
  },
  {
   "cell_type": "code",
   "execution_count": null,
   "metadata": {},
   "outputs": [],
   "source": [
    "\"\"\"Generate fake data\"\"\"\n",
    "c2 = 0.01\n",
    "c1 = 1.3\n",
    "c0 = 3.456\n",
    "x_in = np.linspace(-10.0, 20.2, 200.0)\n",
    "y_out = c1 * x_in ** 2 + c1 * x_in + c0 + 500.0 * np.random.rand(len(x_in))\n",
    "\n",
    "%matplotlib notebook\n",
    "plt.figure()\n",
    "plt.scatter(x_in, y_out)\n",
    "plt.xlabel('x')\n",
    "plt.ylabel('y')\n",
    "plt.show()"
   ]
  },
  {
   "cell_type": "code",
   "execution_count": null,
   "metadata": {},
   "outputs": [],
   "source": [
    "\"\"\"Train using the custom Ridge class\"\"\"\n",
    "x_train, x_test, y_train, y_test = train_test_split(\n",
    "    x_in, y_out, test_size=0.20)\n",
    "\n",
    "lam = 0.1\n",
    "ridge = Ridge(lam)\n",
    "ridge.fit(x_train, y_train)"
   ]
  },
  {
   "cell_type": "code",
   "execution_count": null,
   "metadata": {},
   "outputs": [],
   "source": [
    "\"\"\"Train using Sklearn ridge model\"\"\"\n",
    "\n",
    "from sklearn import linear_model\n",
    "\n",
    "reg = linear_model.Ridge(alpha=lam)\n",
    "reg.fit([np.array([1.0, x, x**2]) for x in x_train], y_train)"
   ]
  },
  {
   "cell_type": "code",
   "execution_count": null,
   "metadata": {
    "scrolled": false
   },
   "outputs": [],
   "source": [
    "\"\"\"Plot test data and model predictions\"\"\"\n",
    "\n",
    "plt.figure()\n",
    "plt.scatter(x_test, y_test)\n",
    "x_test_sorted = np.sort(x_test)\n",
    "plt.plot(x_test_sorted,\n",
    "         ridge._coeff_hat[0] + ridge._coeff_hat[1]*x_test_sorted + ridge._coeff_hat[2]*x_test_sorted**2,\n",
    "         '-r', label='custom')\n",
    "plt.plot(x_test_sorted,\n",
    "         reg.intercept_ + reg.coef_[1]*x_test_sorted + reg.coef_[2]*x_test_sorted**2, '--g', label='sklearn')\n",
    "plt.xlabel('x')\n",
    "plt.ylabel('y')\n",
    "plt.legend()\n",
    "plt.show()\n",
    "\n",
    "# print the coeff\n",
    "print(f'custom: {ridge._coeff_hat[0]}, {ridge._coeff_hat[1]}, {ridge._coeff_hat[2]}')\n",
    "print(f'sklearn: {reg.intercept_ }, {reg.coef_[1]}, {reg.coef_[2]}')"
   ]
  },
  {
   "cell_type": "code",
   "execution_count": null,
   "metadata": {
    "scrolled": true
   },
   "outputs": [],
   "source": [
    "\"\"\"Effect of regularization factor\"\"\"\n",
    "\n",
    "coeff_store = []\n",
    "norm_store = []\n",
    "factors = np.linspace(0.0, 1.0, 10)\n",
    "for l in factors:\n",
    "    ridge = Ridge(l)\n",
    "    ridge.fit(x_train, y_train)\n",
    "\n",
    "    coeff_store.append(ridge._coeff_hat)\n",
    "    norm_store.append(np.linalg.norm(ridge._coeff_hat))"
   ]
  },
  {
   "cell_type": "code",
   "execution_count": null,
   "metadata": {
    "scrolled": false
   },
   "outputs": [],
   "source": [
    "plt.figure()\n",
    "plt.subplot(411)\n",
    "coeff_0 = [c[0] for c in coeff_store]\n",
    "plt.plot(factors, coeff_0, 'or')\n",
    "plt.ylabel('c0')\n",
    "plt.subplot(412)\n",
    "coeff_1 = [c[1] for c in coeff_store]\n",
    "plt.plot(factors, coeff_1, 'og')\n",
    "plt.ylabel('c1')\n",
    "plt.subplot(413)\n",
    "coeff_2 = [c[2] for c in coeff_store]\n",
    "plt.plot(factors, coeff_2, 'ob')\n",
    "plt.ylabel('c2')\n",
    "plt.subplot(414)\n",
    "plt.plot(factors, norm_store, 'o')\n",
    "plt.xlabel('lambda')\n",
    "plt.ylabel('Norm')\n",
    "plt.show()"
   ]
  },
  {
   "cell_type": "code",
   "execution_count": null,
   "metadata": {},
   "outputs": [],
   "source": []
  }
 ],
 "metadata": {
  "kernelspec": {
   "display_name": "Python 3",
   "language": "python",
   "name": "python3"
  },
  "language_info": {
   "codemirror_mode": {
    "name": "ipython",
    "version": 3
   },
   "file_extension": ".py",
   "mimetype": "text/x-python",
   "name": "python",
   "nbconvert_exporter": "python",
   "pygments_lexer": "ipython3",
   "version": "3.7.4"
  }
 },
 "nbformat": 4,
 "nbformat_minor": 2
}
