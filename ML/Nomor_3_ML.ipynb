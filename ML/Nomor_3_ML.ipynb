{
  "nbformat": 4,
  "nbformat_minor": 0,
  "metadata": {
    "colab": {
      "name": "Nomor 3 ML.ipynb",
      "provenance": []
    },
    "kernelspec": {
      "name": "python3",
      "display_name": "Python 3"
    },
    "language_info": {
      "name": "python"
    }
  },
  "cells": [
    {
      "cell_type": "markdown",
      "metadata": {
        "id": "K6u4bcabPxyv"
      },
      "source": [
        "#Import library"
      ]
    },
    {
      "cell_type": "code",
      "metadata": {
        "colab": {
          "base_uri": "https://localhost:8080/"
        },
        "id": "SulwSxRZbqD6",
        "outputId": "9851482d-37d3-4f46-a14e-2fe11e1ef961"
      },
      "source": [
        "!pip install nltk"
      ],
      "execution_count": 47,
      "outputs": [
        {
          "output_type": "stream",
          "text": [
            "Requirement already satisfied: nltk in /usr/local/lib/python3.7/dist-packages (3.2.5)\n",
            "Requirement already satisfied: six in /usr/local/lib/python3.7/dist-packages (from nltk) (1.15.0)\n"
          ],
          "name": "stdout"
        }
      ]
    },
    {
      "cell_type": "code",
      "metadata": {
        "colab": {
          "base_uri": "https://localhost:8080/"
        },
        "id": "6JWy5d3rPP6K",
        "outputId": "731063c4-5c42-494f-a5df-42b27e3dea27"
      },
      "source": [
        "from sklearn.feature_extraction.text import CountVectorizer\n",
        "from nltk.corpus import names\n",
        "from nltk.stem import WordNetLemmatizer\n",
        "import glob\n",
        "import os\n",
        "import numpy as np\n",
        "from google.colab import drive\n",
        "import nltk\n",
        "from sklearn.model_selection import train_test_split\n",
        "from sklearn.naive_bayes import MultinomialNB\n",
        "nltk.download('names')\n",
        "nltk.download('wordnet')"
      ],
      "execution_count": 48,
      "outputs": [
        {
          "output_type": "stream",
          "text": [
            "[nltk_data] Downloading package names to /root/nltk_data...\n",
            "[nltk_data]   Package names is already up-to-date!\n",
            "[nltk_data] Downloading package wordnet to /root/nltk_data...\n",
            "[nltk_data]   Package wordnet is already up-to-date!\n"
          ],
          "name": "stdout"
        },
        {
          "output_type": "execute_result",
          "data": {
            "text/plain": [
              "True"
            ]
          },
          "metadata": {
            "tags": []
          },
          "execution_count": 48
        }
      ]
    },
    {
      "cell_type": "markdown",
      "metadata": {
        "id": "3foGeJJvP2h2"
      },
      "source": [
        "Load .TXT file"
      ]
    },
    {
      "cell_type": "code",
      "metadata": {
        "colab": {
          "base_uri": "https://localhost:8080/"
        },
        "id": "Nc9B1I6lP2B_",
        "outputId": "bcaa4c00-4429-4833-9b8f-b971915e061e"
      },
      "source": [
        "file_path = '/content/drive/MyDrive/myham/0001.1999-12-10.farmer.ham.txt'\n",
        "with open(file_path, 'r') as infile:\n",
        "    ham_sample = infile.read()\n",
        "print(ham_sample)\n",
        "\n",
        "file_path = '/content/drive/MyDrive/myspam/0006.2003-12-18.GP.spam.txt'\n",
        "with open(file_path, 'r') as infile:\n",
        "    spam_sample = infile.read()\n",
        "print(spam_sample)"
      ],
      "execution_count": 49,
      "outputs": [
        {
          "output_type": "stream",
          "text": [
            "Subject: christmas tree farm pictures\n",
            "\n",
            "Subject: dobmeos with hgh my energy level has gone up ! stukm\n",
            "introducing\n",
            "doctor - formulated\n",
            "hgh\n",
            "human growth hormone - also called hgh\n",
            "is referred to in medical science as the master hormone . it is very plentiful\n",
            "when we are young , but near the age of twenty - one our bodies begin to produce\n",
            "less of it . by the time we are forty nearly everyone is deficient in hgh ,\n",
            "and at eighty our production has normally diminished at least 90 - 95 % .\n",
            "advantages of hgh :\n",
            "- increased muscle strength\n",
            "- loss in body fat\n",
            "- increased bone density\n",
            "- lower blood pressure\n",
            "- quickens wound healing\n",
            "- reduces cellulite\n",
            "- improved vision\n",
            "- wrinkle disappearance\n",
            "- increased skin thickness texture\n",
            "- increased energy levels\n",
            "- improved sleep and emotional stability\n",
            "- improved memory and mental alertness\n",
            "- increased sexual potency\n",
            "- resistance to common illness\n",
            "- strengthened heart muscle\n",
            "- controlled cholesterol\n",
            "- controlled mood swings\n",
            "- new hair growth and color restore\n",
            "read\n",
            "more at this website\n",
            "unsubscribe\n",
            "\n"
          ],
          "name": "stdout"
        }
      ]
    },
    {
      "cell_type": "markdown",
      "metadata": {
        "id": "ZMZ9fgHkaK-N"
      },
      "source": [
        "Remove stopwords"
      ]
    },
    {
      "cell_type": "code",
      "metadata": {
        "id": "Mg5hwxj6aGEG"
      },
      "source": [
        "cv = CountVectorizer(stop_words=\"english\", max_features=500)"
      ],
      "execution_count": 50,
      "outputs": []
    },
    {
      "cell_type": "markdown",
      "metadata": {
        "id": "0uGhjGT5aYwL"
      },
      "source": [
        "Simpan email, text data, dan labels"
      ]
    },
    {
      "cell_type": "code",
      "metadata": {
        "id": "dyTmhiKXaOyQ"
      },
      "source": [
        "emails, labels = [], []\n",
        "file_path = '/content/drive/MyDrive/myspam'\n",
        "for filename in glob.glob(os.path.join(file_path, '*.txt')):\n",
        "    with open(filename, 'r', encoding = \"ISO-8859-1\") as infile:\n",
        "        emails.append(infile.read())\n",
        "        labels.append(1)\n",
        "\n",
        "file_path = '/content/drive/MyDrive/myham'\n",
        "for filename in glob.glob(os.path.join(file_path, '*.txt')):\n",
        "    with open(filename, 'r', encoding = \"ISO-8859-1\") as infile:\n",
        "        emails.append(infile.read())\n",
        "        labels.append(0)"
      ],
      "execution_count": 51,
      "outputs": []
    },
    {
      "cell_type": "markdown",
      "metadata": {
        "id": "Z-5ZfKthbFt1"
      },
      "source": [
        "Text cleaning"
      ]
    },
    {
      "cell_type": "code",
      "metadata": {
        "id": "h0hVELUebPyg"
      },
      "source": [
        "def letters_only(astr):\n",
        "    return astr.isalpha()\n",
        "\n",
        "\n",
        "all_names = set(names.words())\n",
        "lemmatizer = WordNetLemmatizer()\n",
        "\n",
        "\n",
        "def clean_text(docs):\n",
        "    cleaned_docs = []\n",
        "    for doc in docs:\n",
        "        cleaned_docs.append(' '.join([lemmatizer.lemmatize(word.lower()) for word in doc.split() if letters_only(word) and word not in all_names]))\n",
        "    return cleaned_docs"
      ],
      "execution_count": 52,
      "outputs": []
    },
    {
      "cell_type": "markdown",
      "metadata": {
        "id": "sUp8fcLMdMcg"
      },
      "source": [
        "Declare stuff untuk mempermudah"
      ]
    },
    {
      "cell_type": "code",
      "metadata": {
        "id": "r8xw6RZHdFE5"
      },
      "source": [
        "cleaned_emails = clean_text(emails)\n",
        "term_docs = cv.fit_transform(cleaned_emails)\n",
        "feature_mapping = cv.vocabulary\n",
        "feature_names = cv.get_feature_names()"
      ],
      "execution_count": 53,
      "outputs": []
    },
    {
      "cell_type": "markdown",
      "metadata": {
        "id": "uOIMBy2Tdm7f"
      },
      "source": [
        "#Main\n"
      ]
    },
    {
      "cell_type": "code",
      "metadata": {
        "id": "N-3JcCtFdj-6"
      },
      "source": [
        "def get_label_index(labels):\n",
        "    from collections import defaultdict\n",
        "    label_index = defaultdict(list)\n",
        "    for index, label in enumerate(labels):\n",
        "        label_index[label].append(index)\n",
        "    return label_index\n",
        "\n",
        "\n",
        "def get_prior(label_index):\n",
        "    prior = {label: len(index) for label, index in label_index.items()}\n",
        "    total_count = sum(prior.values())\n",
        "    for label in prior:\n",
        "        prior[label] /= float(total_count)\n",
        "    return prior"
      ],
      "execution_count": 54,
      "outputs": []
    },
    {
      "cell_type": "markdown",
      "metadata": {
        "id": "qLDiIysNd11o"
      },
      "source": [
        "Get likelihood"
      ]
    },
    {
      "cell_type": "code",
      "metadata": {
        "id": "WnST8_f7d6uW"
      },
      "source": [
        "def get_likelihood(term_document_matrix, label_index, smoothing=0):\n",
        "    likelihood = {}\n",
        "    for label, index in label_index.items():\n",
        "        likelihood[label] = term_document_matrix[index, :].sum(axis=0) + smoothing\n",
        "        likelihood[label] = np.asarray(likelihood[label])[0]\n",
        "        total_count = likelihood[label].sum()\n",
        "        likelihood[label] = likelihood[label] / float(total_count)\n",
        "    return likelihood"
      ],
      "execution_count": 55,
      "outputs": []
    },
    {
      "cell_type": "markdown",
      "metadata": {
        "id": "aJqjZD0weEXL"
      },
      "source": [
        "Calculate posterior for testing"
      ]
    },
    {
      "cell_type": "code",
      "metadata": {
        "id": "qFWXHnERedoR"
      },
      "source": [
        "def get_posterior(term_document_matrix, prior, likelihood):\n",
        "    num_docs = term_document_matrix.shape[0]\n",
        "    posteriors = []\n",
        "    for i in range(num_docs):\n",
        "        posterior = {key: np.log(prior_label) for key, prior_label in prior.items()}\n",
        "        for label, likelihood_label in likelihood.items():\n",
        "            term_document_vector = term_document_matrix.getrow(i)\n",
        "            counts = term_document_vector.data\n",
        "            indices = term_document_vector.indices\n",
        "            for count, index in zip(counts, indices):\n",
        "                posterior[label] += np.log(likelihood_label[index]) * count\n",
        "        min_log_posterior = min(posterior.values())\n",
        "        for label in posterior:\n",
        "            try:\n",
        "                posterior[label] = np.exp(posterior[label] - min_log_posterior)\n",
        "            except:\n",
        "                posterior[label] = float('inf')\n",
        "        sum_posterior = sum(posterior.values())\n",
        "        for label in posterior:\n",
        "            if posterior[label] == float('inf'):\n",
        "                posterior[label] = 1.0\n",
        "            else:\n",
        "                posterior[label] /= sum_posterior\n",
        "        posteriors.append(posterior.copy())\n",
        "    return posteriors"
      ],
      "execution_count": 56,
      "outputs": []
    },
    {
      "cell_type": "markdown",
      "metadata": {
        "id": "HnsSiQRHe0bE"
      },
      "source": [
        "Smoothing bisa di set ke 0 kalau tidak mau di smoothing"
      ]
    },
    {
      "cell_type": "code",
      "metadata": {
        "id": "dofMzvtUeriy"
      },
      "source": [
        "label_index = get_label_index(labels)\n",
        "prior = get_prior(label_index)\n",
        "smoothing = 1\n",
        "likelihood = get_likelihood(term_docs, label_index, smoothing)"
      ],
      "execution_count": 57,
      "outputs": []
    },
    {
      "cell_type": "markdown",
      "metadata": {
        "id": "Hym55V1XgJe4"
      },
      "source": [
        "pembagian test dan training"
      ]
    },
    {
      "cell_type": "code",
      "metadata": {
        "id": "j58RoI-ugJQq"
      },
      "source": [
        "X_train, X_test, Y_train, Y_test = train_test_split(cleaned_emails, labels, test_size=0.25, random_state=42)"
      ],
      "execution_count": 58,
      "outputs": []
    },
    {
      "cell_type": "markdown",
      "metadata": {
        "id": "OReQla6pgk6M"
      },
      "source": [
        "NB Model"
      ]
    },
    {
      "cell_type": "code",
      "metadata": {
        "colab": {
          "base_uri": "https://localhost:8080/"
        },
        "id": "mD1kpsjbgkwX",
        "outputId": "2c648fc2-952b-4a4e-d7bc-1618b9703d1c"
      },
      "source": [
        "len(X_train), len(Y_train)\n",
        "len(X_test), len(Y_test)\n",
        "\n",
        "term_docs_train = cv.fit_transform(X_train)\n",
        "label_index = get_label_index(Y_train)\n",
        "prior = get_prior(label_index)\n",
        "likelihood = get_likelihood(term_docs_train, label_index, smoothing)\n",
        "\n",
        "term_docs_test = cv.transform(X_test)\n",
        "posterior = get_posterior(term_docs_test, prior, likelihood)\n",
        "\n",
        "correct = 0.0\n",
        "for pred, actual in zip(posterior, Y_test):\n",
        "    if actual == 1:\n",
        "        if pred[1] >= 0.5:\n",
        "            correct += 1\n",
        "    elif pred[0] > 0.5:\n",
        "        correct += 1\n",
        "\n",
        "print('The accuracy on {0} testing samples is: {1:.1f}%'.format(len(Y_test), correct/len(Y_test)*100))"
      ],
      "execution_count": 59,
      "outputs": [
        {
          "output_type": "stream",
          "text": [
            "The accuracy on 32 testing samples is: 90.6%\n"
          ],
          "name": "stdout"
        }
      ]
    },
    {
      "cell_type": "markdown",
      "metadata": {
        "id": "8ih2B4g1g6W9"
      },
      "source": [
        "Multinomial NB model"
      ]
    },
    {
      "cell_type": "code",
      "metadata": {
        "colab": {
          "base_uri": "https://localhost:8080/"
        },
        "id": "JBA1wr-Eg6hU",
        "outputId": "475a3984-1baf-4e2f-f837-b3c62887ac33"
      },
      "source": [
        "clf = MultinomialNB(alpha=1.0, fit_prior=True)\n",
        "clf.fit(term_docs_train, Y_train)\n",
        "prediction_prob = clf.predict_proba(term_docs_test)\n",
        "prediction_prob[0:10]\n",
        "prediction = clf.predict(term_docs_test)\n",
        "prediction[:10]\n",
        "accuracy = clf.score(term_docs_test, Y_test)\n",
        "print('The accuracy using MultinomialNB is: {0:.1f}%'.format(accuracy*100))"
      ],
      "execution_count": 60,
      "outputs": [
        {
          "output_type": "stream",
          "text": [
            "The accuracy using MultinomialNB is: 90.6%\n"
          ],
          "name": "stdout"
        }
      ]
    },
    {
      "cell_type": "markdown",
      "metadata": {
        "id": "69QNHaWzo9i6"
      },
      "source": [
        "#Scoring"
      ]
    },
    {
      "cell_type": "markdown",
      "metadata": {
        "id": "uJBMvzhkoD6Z"
      },
      "source": [
        "Confusion matrix"
      ]
    },
    {
      "cell_type": "code",
      "metadata": {
        "colab": {
          "base_uri": "https://localhost:8080/"
        },
        "id": "6bIkmR9LoGsO",
        "outputId": "c3b5ec23-85d2-4b4e-ff4f-446c05cd9e6b"
      },
      "source": [
        "from sklearn.metrics import confusion_matrix\n",
        "print(confusion_matrix(Y_test, prediction, labels=[0, 1]))"
      ],
      "execution_count": 61,
      "outputs": [
        {
          "output_type": "stream",
          "text": [
            "[[17  0]\n",
            " [ 3 12]]\n"
          ],
          "name": "stdout"
        }
      ]
    },
    {
      "cell_type": "markdown",
      "metadata": {
        "id": "cyphKN6BoHW9"
      },
      "source": [
        "ROC Curve and score"
      ]
    },
    {
      "cell_type": "code",
      "metadata": {
        "colab": {
          "base_uri": "https://localhost:8080/",
          "height": 329
        },
        "id": "71hHZWtaoMKa",
        "outputId": "e85a131d-b138-4348-c40a-97f27756a245"
      },
      "source": [
        "pos_prob = prediction_prob[:, 1]\n",
        "thresholds = np.arange(0.0, 1.2, 0.1)\n",
        "true_pos, false_pos = [0]*len(thresholds), [0]*len(thresholds)\n",
        "for pred, y in zip(pos_prob, Y_test):\n",
        "    for i, threshold in enumerate(thresholds):\n",
        "        if pred >= threshold:\n",
        "            if y == 1:\n",
        "                true_pos[i] += 1\n",
        "            else:\n",
        "                false_pos[i] += 1\n",
        "        else:\n",
        "            break\n",
        "\n",
        "true_pos_rate = [tp / 516.0 for tp in true_pos]\n",
        "false_pos_rate = [fp / 1191.0 for fp in false_pos]\n",
        "\n",
        "from sklearn.metrics import roc_auc_score\n",
        "print(roc_auc_score(Y_test, pos_prob))\n",
        "\n",
        "import matplotlib.pyplot as plt\n",
        "plt.figure()\n",
        "lw = 2\n",
        "plt.plot(false_pos_rate, true_pos_rate, color='darkorange',\n",
        "         lw=lw)\n",
        "plt.plot([0, 1], [0, 1], color='navy', lw=lw, linestyle='--')\n",
        "plt.xlim([0.0, 1.0])\n",
        "plt.ylim([0.0, 1.05])\n",
        "plt.xlabel('False Positive Rate')\n",
        "plt.ylabel('True Positive Rate')\n",
        "plt.title('Receiver Operating Characteristic')\n",
        "plt.legend(loc=\"lower right\")\n",
        "plt.show()"
      ],
      "execution_count": 62,
      "outputs": [
        {
          "output_type": "stream",
          "text": [
            "No handles with labels found to put in legend.\n"
          ],
          "name": "stderr"
        },
        {
          "output_type": "stream",
          "text": [
            "1.0\n"
          ],
          "name": "stdout"
        },
        {
          "output_type": "display_data",
          "data": {
            "image/png": "[encoded data removed]",
            "text/plain": [
              "<Figure size 432x288 with 1 Axes>"
            ]
          },
          "metadata": {
            "tags": [],
            "needs_background": "light"
          }
        }
      ]
    }
  ]
}