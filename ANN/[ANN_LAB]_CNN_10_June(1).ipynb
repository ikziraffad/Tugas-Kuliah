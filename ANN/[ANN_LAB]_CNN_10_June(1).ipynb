{
  "nbformat": 4,
  "nbformat_minor": 0,
  "metadata": {
    "accelerator": "GPU",
    "colab": {
      "name": "[ANN LAB] CNN_10 June",
      "provenance": [],
      "collapsed_sections": []
    },
    "kernelspec": {
      "display_name": "Python 3",
      "name": "python3"
    },
    "language_info": {
      "name": "python"
    }
  },
  "cells": [
    {
      "cell_type": "code",
      "metadata": {
        "colab": {
          "base_uri": "https://localhost:8080/"
        },
        "id": "l3lAFbCBOEs_",
        "outputId": "9c1986b2-95b5-4021-d780-646431a8b5aa"
      },
      "source": [
        "!pip install --upgrade tensorflow==1.15"
      ],
      "execution_count": null,
      "outputs": [
        {
          "output_type": "stream",
          "text": [
            "Collecting tensorflow==1.15\n",
            "\u001b[?25l  Downloading https://files.pythonhosted.org/packages/92/2b/e3af15221da9ff323521565fa3324b0d7c7c5b1d7a8ca66984c8d59cb0ce/tensorflow-1.15.0-cp37-cp37m-manylinux2010_x86_64.whl (412.3MB)\n",
            "\u001b[K     |████████████████████████████████| 412.3MB 41kB/s \n",
            "\u001b[?25hCollecting gast==0.2.2\n",
            "  Downloading https://files.pythonhosted.org/packages/4e/35/11749bf99b2d4e3cceb4d55ca22590b0d7c2c62b9de38ac4a4a7f4687421/gast-0.2.2.tar.gz\n",
            "Requirement already satisfied, skipping upgrade: astor>=0.6.0 in /usr/local/lib/python3.7/dist-packages (from tensorflow==1.15) (0.8.1)\n",
            "Collecting tensorflow-estimator==1.15.1\n",
            "\u001b[?25l  Downloading https://files.pythonhosted.org/packages/de/62/2ee9cd74c9fa2fa450877847ba560b260f5d0fb70ee0595203082dafcc9d/tensorflow_estimator-1.15.1-py2.py3-none-any.whl (503kB)\n",
            "\u001b[K     |████████████████████████████████| 512kB 36.9MB/s \n",
            "\u001b[?25hRequirement already satisfied, skipping upgrade: numpy<2.0,>=1.16.0 in /usr/local/lib/python3.7/dist-packages (from tensorflow==1.15) (1.19.5)\n",
            "Requirement already satisfied, skipping upgrade: protobuf>=3.6.1 in /usr/local/lib/python3.7/dist-packages (from tensorflow==1.15) (3.12.4)\n",
            "Requirement already satisfied, skipping upgrade: termcolor>=1.1.0 in /usr/local/lib/python3.7/dist-packages (from tensorflow==1.15) (1.1.0)\n",
            "Requirement already satisfied, skipping upgrade: wheel>=0.26 in /usr/local/lib/python3.7/dist-packages (from tensorflow==1.15) (0.36.2)\n",
            "Collecting tensorboard<1.16.0,>=1.15.0\n",
            "\u001b[?25l  Downloading https://files.pythonhosted.org/packages/1e/e9/d3d747a97f7188f48aa5eda486907f3b345cd409f0a0850468ba867db246/tensorboard-1.15.0-py3-none-any.whl (3.8MB)\n",
            "\u001b[K     |████████████████████████████████| 3.8MB 37.0MB/s \n",
            "\u001b[?25hCollecting keras-applications>=1.0.8\n",
            "\u001b[?25l  Downloading https://files.pythonhosted.org/packages/71/e3/19762fdfc62877ae9102edf6342d71b28fbfd9dea3d2f96a882ce099b03f/Keras_Applications-1.0.8-py3-none-any.whl (50kB)\n",
            "\u001b[K     |████████████████████████████████| 51kB 7.7MB/s \n",
            "\u001b[?25hRequirement already satisfied, skipping upgrade: google-pasta>=0.1.6 in /usr/local/lib/python3.7/dist-packages (from tensorflow==1.15) (0.2.0)\n",
            "Requirement already satisfied, skipping upgrade: absl-py>=0.7.0 in /usr/local/lib/python3.7/dist-packages (from tensorflow==1.15) (0.12.0)\n",
            "Requirement already satisfied, skipping upgrade: keras-preprocessing>=1.0.5 in /usr/local/lib/python3.7/dist-packages (from tensorflow==1.15) (1.1.2)\n",
            "Requirement already satisfied, skipping upgrade: opt-einsum>=2.3.2 in /usr/local/lib/python3.7/dist-packages (from tensorflow==1.15) (3.3.0)\n",
            "Requirement already satisfied, skipping upgrade: six>=1.10.0 in /usr/local/lib/python3.7/dist-packages (from tensorflow==1.15) (1.15.0)\n",
            "Requirement already satisfied, skipping upgrade: wrapt>=1.11.1 in /usr/local/lib/python3.7/dist-packages (from tensorflow==1.15) (1.12.1)\n",
            "Requirement already satisfied, skipping upgrade: grpcio>=1.8.6 in /usr/local/lib/python3.7/dist-packages (from tensorflow==1.15) (1.34.1)\n",
            "Requirement already satisfied, skipping upgrade: setuptools in /usr/local/lib/python3.7/dist-packages (from protobuf>=3.6.1->tensorflow==1.15) (57.0.0)\n",
            "Requirement already satisfied, skipping upgrade: werkzeug>=0.11.15 in /usr/local/lib/python3.7/dist-packages (from tensorboard<1.16.0,>=1.15.0->tensorflow==1.15) (1.0.1)\n",
            "Requirement already satisfied, skipping upgrade: markdown>=2.6.8 in /usr/local/lib/python3.7/dist-packages (from tensorboard<1.16.0,>=1.15.0->tensorflow==1.15) (3.3.4)\n",
            "Requirement already satisfied, skipping upgrade: h5py in /usr/local/lib/python3.7/dist-packages (from keras-applications>=1.0.8->tensorflow==1.15) (3.1.0)\n",
            "Requirement already satisfied, skipping upgrade: importlib-metadata; python_version < \"3.8\" in /usr/local/lib/python3.7/dist-packages (from markdown>=2.6.8->tensorboard<1.16.0,>=1.15.0->tensorflow==1.15) (4.0.1)\n",
            "Requirement already satisfied, skipping upgrade: cached-property; python_version < \"3.8\" in /usr/local/lib/python3.7/dist-packages (from h5py->keras-applications>=1.0.8->tensorflow==1.15) (1.5.2)\n",
            "Requirement already satisfied, skipping upgrade: typing-extensions>=3.6.4; python_version < \"3.8\" in /usr/local/lib/python3.7/dist-packages (from importlib-metadata; python_version < \"3.8\"->markdown>=2.6.8->tensorboard<1.16.0,>=1.15.0->tensorflow==1.15) (3.7.4.3)\n",
            "Requirement already satisfied, skipping upgrade: zipp>=0.5 in /usr/local/lib/python3.7/dist-packages (from importlib-metadata; python_version < \"3.8\"->markdown>=2.6.8->tensorboard<1.16.0,>=1.15.0->tensorflow==1.15) (3.4.1)\n",
            "Building wheels for collected packages: gast\n",
            "  Building wheel for gast (setup.py) ... \u001b[?25l\u001b[?25hdone\n",
            "  Created wheel for gast: filename=gast-0.2.2-cp37-none-any.whl size=7557 sha256=3dd10e58729f8f72a1999c1034e61c06d0828cc1c9e71f2e4509a78537f83478\n",
            "  Stored in directory: /root/.cache/pip/wheels/5c/2e/7e/a1d4d4fcebe6c381f378ce7743a3ced3699feb89bcfbdadadd\n",
            "Successfully built gast\n",
            "\u001b[31mERROR: tensorflow-probability 0.12.1 has requirement gast>=0.3.2, but you'll have gast 0.2.2 which is incompatible.\u001b[0m\n",
            "\u001b[31mERROR: kapre 0.3.5 has requirement tensorflow>=2.0.0, but you'll have tensorflow 1.15.0 which is incompatible.\u001b[0m\n",
            "Installing collected packages: gast, tensorflow-estimator, tensorboard, keras-applications, tensorflow\n",
            "  Found existing installation: gast 0.4.0\n",
            "    Uninstalling gast-0.4.0:\n",
            "      Successfully uninstalled gast-0.4.0\n",
            "  Found existing installation: tensorflow-estimator 2.5.0\n",
            "    Uninstalling tensorflow-estimator-2.5.0:\n",
            "      Successfully uninstalled tensorflow-estimator-2.5.0\n",
            "  Found existing installation: tensorboard 2.5.0\n",
            "    Uninstalling tensorboard-2.5.0:\n",
            "      Successfully uninstalled tensorboard-2.5.0\n",
            "  Found existing installation: tensorflow 2.5.0\n",
            "    Uninstalling tensorflow-2.5.0:\n",
            "      Successfully uninstalled tensorflow-2.5.0\n",
            "Successfully installed gast-0.2.2 keras-applications-1.0.8 tensorboard-1.15.0 tensorflow-1.15.0 tensorflow-estimator-1.15.1\n"
          ],
          "name": "stdout"
        }
      ]
    },
    {
      "cell_type": "code",
      "metadata": {
        "id": "qaDoV-ZEOr05"
      },
      "source": [
        "import tensorflow as tf\n",
        "from sklearn.preprocessing import OneHotEncoder\n",
        "from tensorflow.keras.datasets import mnist\n",
        "import matplotlib.pyplot as plt"
      ],
      "execution_count": null,
      "outputs": []
    },
    {
      "cell_type": "code",
      "metadata": {
        "colab": {
          "base_uri": "https://localhost:8080/"
        },
        "id": "jvqebxVJO3S7",
        "outputId": "c26829be-7689-419f-8d19-97599bfdd16d"
      },
      "source": [
        "(x_train, y_train), (x_test, y_test) = mnist.load_data()"
      ],
      "execution_count": null,
      "outputs": [
        {
          "output_type": "stream",
          "text": [
            "Downloading data from https://storage.googleapis.com/tensorflow/tf-keras-datasets/mnist.npz\n",
            "11493376/11490434 [==============================] - 0s 0us/step\n"
          ],
          "name": "stdout"
        }
      ]
    },
    {
      "cell_type": "code",
      "metadata": {
        "colab": {
          "base_uri": "https://localhost:8080/",
          "height": 282
        },
        "id": "T7Nmg46sPNkj",
        "outputId": "73fc7e73-e8a2-4c6e-ad46-11bf4b1fd214"
      },
      "source": [
        "plt.imshow(x_train[0])"
      ],
      "execution_count": null,
      "outputs": [
        {
          "output_type": "execute_result",
          "data": {
            "text/plain": [
              "<matplotlib.image.AxesImage at 0x7f1ccd397a90>"
            ]
          },
          "metadata": {
            "tags": []
          },
          "execution_count": 4
        },
        {
          "output_type": "display_data",
          "data": {
            "image/png": "[encoded data removed]",
            "text/plain": [
              "<Figure size 432x288 with 1 Axes>"
            ]
          },
          "metadata": {
            "tags": [],
            "needs_background": "light"
          }
        }
      ]
    },
    {
      "cell_type": "code",
      "metadata": {
        "id": "9k4ddo8jQDLd"
      },
      "source": [
        "y_train = y_train.reshape([-1, 1])\n",
        "y_test = y_test.reshape([-1, 1])"
      ],
      "execution_count": null,
      "outputs": []
    },
    {
      "cell_type": "code",
      "metadata": {
        "id": "DzFmQY7iQmje"
      },
      "source": [
        "encoder = OneHotEncoder(sparse=False)\n",
        "encoder.fit(y_train)\n",
        "y_train = encoder.transform(y_train)\n",
        "y_test = encoder.transform(y_test)"
      ],
      "execution_count": null,
      "outputs": []
    },
    {
      "cell_type": "code",
      "metadata": {
        "id": "GBL6MZtZQm9o"
      },
      "source": [
        "# Image\n",
        "x_train = x_train.reshape([-1, 28, 28, 1])\n",
        "x_test = x_test.reshape([-1, 28, 28, 1])"
      ],
      "execution_count": null,
      "outputs": []
    },
    {
      "cell_type": "code",
      "metadata": {
        "id": "C6KUdoENRgk2"
      },
      "source": [
        "x_train = x_train / 255.0\n",
        "x_test = x_test / 255.0"
      ],
      "execution_count": null,
      "outputs": []
    },
    {
      "cell_type": "code",
      "metadata": {
        "id": "kvssii_TSWND"
      },
      "source": [
        "# Model\n",
        "# out_channel = n_filters / n_kernel\n",
        "def conv2d(x, out_channel, kernel_size, strides=1, padding=\"SAME\"): # default padding --> auto\n",
        "    in_channel = x.shape[-1]\n",
        "\n",
        "    #Weight == Filter\n",
        "    kernel = tf.Variable(\n",
        "        tf.random.normal([kernel_size, kernel_size, in_channel, out_channel])\n",
        "    )\n",
        "    bias = tf.Variable(\n",
        "        tf.random.normal([out_channel])\n",
        "    )\n",
        "\n",
        "    out = tf.nn.conv2d(x, kernel, strides=strides, padding=padding) + bias\n",
        "    return tf.nn.relu(out)\n"
      ],
      "execution_count": null,
      "outputs": []
    },
    {
      "cell_type": "code",
      "metadata": {
        "id": "5zJeTQV_UASw"
      },
      "source": [
        "def dense(x, neuron_size, activation=None):\n",
        "    in_shape = x.shape[-1]\n",
        "\n",
        "    #Weight == Filter\n",
        "    weight = tf.Variable(\n",
        "        tf.random.normal([in_shape, neuron_size])\n",
        "    )\n",
        "    bias = tf.Variable(\n",
        "        tf.random.normal([neuron_size])\n",
        "    )\n",
        "\n",
        "    out = tf.matmul(x, weight) + bias\n",
        "    \n",
        "    if activation is None:\n",
        "        return out\n",
        "    \n",
        "    return activation(out)"
      ],
      "execution_count": null,
      "outputs": []
    },
    {
      "cell_type": "code",
      "metadata": {
        "id": "5DnDlBatW5ou"
      },
      "source": [
        "# Forward Propagation\n",
        "input_placeholder = tf.placeholder(\n",
        "    tf.float32, [None, 28, 28, 1]\n",
        ")\n",
        "\n",
        "label_placeholder = tf.placeholder(\n",
        "    tf.float32, [None,10]\n",
        ")"
      ],
      "execution_count": null,
      "outputs": []
    },
    {
      "cell_type": "code",
      "metadata": {
        "id": "kwzNyLBzW70h"
      },
      "source": [
        "# Conv1\n",
        "out_conv1 = conv2d(input_placeholder, 8, 3)\n",
        "pooled1 = tf.nn.max_pool2d(out_conv1, 2, 2, padding=\"SAME\")\n",
        "\n",
        "# Conv2\n",
        "out_conv2 = conv2d(input_placeholder, 16, 3)\n",
        "pooled2 = tf.nn.max_pool2d(out_conv2, 2, 2, padding=\"SAME\")"
      ],
      "execution_count": null,
      "outputs": []
    },
    {
      "cell_type": "code",
      "metadata": {
        "id": "v0mQi_9NaZ6W"
      },
      "source": [
        "# Training\n",
        "def accuracy_score(y_true, y_predict):\n",
        "    matches = tf.equal(\n",
        "        tf.argmax(y_true, 1), # [0, 1, 0] = 1\n",
        "        tf.argmax(y_predict, 1) # [1, 0, 0] = 0\n",
        "    )\n",
        "    return tf.reduce_mean(tf.cast(matches, tf.float32))"
      ],
      "execution_count": null,
      "outputs": []
    },
    {
      "cell_type": "code",
      "metadata": {
        "id": "pcEjNgWCb8q1"
      },
      "source": [
        "def get_batch(iteration, x, y, batch_size):\n",
        "    start_idx = iteration * batch_size\n",
        "    data_len = x_train.shape[0]\n",
        "    \n",
        "    yield x[start_idx : min(start_idx + batch_size, data_len)]\n",
        "    yield y[start_idx : min(start_idx + batch_size, data_len)]\n",
        "    # yield akan return, tapi ga akan selesain fungsinya"
      ],
      "execution_count": null,
      "outputs": []
    },
    {
      "cell_type": "code",
      "metadata": {
        "id": "uYOS-tYvZGGx"
      },
      "source": [
        "def flatten(x):\n",
        "    size = 1\n",
        "\n",
        "    shape = x.shape[1:]\n",
        "    for s in shape:\n",
        "        size *= s\n",
        "    \n",
        "    return tf.reshape(x, [-1, size])"
      ],
      "execution_count": null,
      "outputs": []
    },
    {
      "cell_type": "code",
      "metadata": {
        "id": "tLSPEky7XZMB"
      },
      "source": [
        "#FC\n",
        "flattened = flatten(pooled2)\n",
        "output_tensor = dense(flattened, 10)"
      ],
      "execution_count": null,
      "outputs": []
    },
    {
      "cell_type": "code",
      "metadata": {
        "colab": {
          "base_uri": "https://localhost:8080/"
        },
        "id": "EQ--3S8xZZ4D",
        "outputId": "e8353003-a44a-4737-b3e0-b2877dadec2e"
      },
      "source": [
        "loss_tensor = tf.reduce_mean(\n",
        "    tf.nn.softmax_cross_entropy_with_logits(\n",
        "        logits=output_tensor,\n",
        "        labels=label_placeholder\n",
        "    )\n",
        ")"
      ],
      "execution_count": null,
      "outputs": [
        {
          "output_type": "stream",
          "text": [
            "WARNING:tensorflow:From <ipython-input-17-5a0f8329ee8c>:4: softmax_cross_entropy_with_logits (from tensorflow.python.ops.nn_ops) is deprecated and will be removed in a future version.\n",
            "Instructions for updating:\n",
            "\n",
            "Future major versions of TensorFlow will allow gradients to flow\n",
            "into the labels input on backprop by default.\n",
            "\n",
            "See `tf.nn.softmax_cross_entropy_with_logits_v2`.\n",
            "\n"
          ],
          "name": "stdout"
        }
      ]
    },
    {
      "cell_type": "code",
      "metadata": {
        "id": "ngVs1rRhZ8_6"
      },
      "source": [
        "optimizer = tf.train.AdamOptimizer(0.01)\n",
        "train = optimizer.minimize(loss_tensor)"
      ],
      "execution_count": null,
      "outputs": []
    },
    {
      "cell_type": "code",
      "metadata": {
        "colab": {
          "base_uri": "https://localhost:8080/"
        },
        "id": "Emf-kJ9RYPAB",
        "outputId": "f1beb7f7-712a-42fa-ab0b-f4b2440ac3f0"
      },
      "source": [
        "num_epochs = 10\n",
        "batch_size = 512\n",
        "iter_len = x_train.shape[0] // batch_size # pertama dibagi, terus di floor() -- round ke bawah\n",
        "with tf.Session() as sess:\n",
        "    sess.run(tf.global_variables_initializer())\n",
        "\n",
        "    for epoch in range(num_epochs):\n",
        "        print(\"\")\n",
        "        print(f\"Epoch {epoch+1} / {num_epochs}\")\n",
        "        print(\"--\")\n",
        "        for iteration in range(iter_len):\n",
        "            x_batch, y_batch = get_batch(iteration, x_train, y_train, batch_size)\n",
        "\n",
        "            train_dict = {\n",
        "                input_placeholder: x_train,\n",
        "                label_placeholder: y_train\n",
        "            }\n",
        "\n",
        "            sess.run(train, feed_dict=train_dict)\n",
        "\n",
        "            loss = sess.run(loss_tensor, feed_dict=train_dict)\n",
        "            acc = sess.run(\n",
        "                accuracy_score(label_placeholder, output_tensor),\n",
        "                feed_dict=train_dict\n",
        "            )\n",
        "\n",
        "            if iteration % 10 == 0:\n",
        "                print(f\"{iteration}/{iter_len} - loss {loss:.4f} - acc {acc:.4f}\")\n",
        "            \n",
        "        \n",
        "        test_dict = {\n",
        "            input_placeholder: x_test,\n",
        "            label_placeholder: y_test\n",
        "        }\n",
        "\n",
        "        val_loss = sess.run(loss_tensor, feed_dict=train_dict)\n",
        "        val_acc = sess.run(\n",
        "            accuracy_score(label_placeholder, output_tensor),\n",
        "            feed_dict=test_dict\n",
        "        )       \n",
        "        \n",
        "\n",
        "        print(\"--\")\n",
        "        print(\"Validation Loss: \", val_loss)\n",
        "        print(\"Validation Accuracy: \", val_acc)\n",
        "\n",
        "            \n",
        "# cepet banget gakuat jari w\n"
      ],
      "execution_count": null,
      "outputs": [
        {
          "output_type": "stream",
          "text": [
            "\n",
            "Epoch 1 / 10\n",
            "--\n",
            "0/117 - loss 83.7603 - acc 0.0728\n",
            "10/117 - loss 37.4545 - acc 0.1543\n",
            "20/117 - loss 20.0512 - acc 0.3423\n",
            "30/117 - loss 10.4022 - acc 0.5677\n",
            "40/117 - loss 6.2318 - acc 0.7041\n",
            "50/117 - loss 4.3360 - acc 0.7812\n",
            "60/117 - loss 3.3448 - acc 0.8194\n",
            "70/117 - loss 2.7377 - acc 0.8450\n",
            "80/117 - loss 2.3112 - acc 0.8622\n",
            "90/117 - loss 1.9958 - acc 0.8759\n",
            "100/117 - loss 1.7503 - acc 0.8851\n",
            "110/117 - loss 1.5489 - acc 0.8934\n",
            "--\n",
            "Validation Loss:  1.4437544\n",
            "Validation Accuracy:  0.9037\n",
            "\n",
            "Epoch 2 / 10\n",
            "--\n",
            "0/117 - loss 1.4273 - acc 0.8990\n",
            "10/117 - loss 1.2781 - acc 0.9059\n",
            "20/117 - loss 1.1549 - acc 0.9124\n",
            "30/117 - loss 1.0517 - acc 0.9175\n",
            "40/117 - loss 0.9640 - acc 0.9220\n",
            "50/117 - loss 0.8885 - acc 0.9261\n",
            "60/117 - loss 0.8229 - acc 0.9293\n",
            "70/117 - loss 0.7665 - acc 0.9327\n",
            "80/117 - loss 0.7180 - acc 0.9359\n",
            "90/117 - loss 0.6758 - acc 0.9382\n",
            "100/117 - loss 0.6389 - acc 0.9406\n",
            "110/117 - loss 0.6062 - acc 0.9430\n",
            "--\n",
            "Validation Loss:  0.58830065\n",
            "Validation Accuracy:  0.9361\n",
            "\n",
            "Epoch 3 / 10\n",
            "--\n",
            "0/117 - loss 0.5854 - acc 0.9442\n",
            "10/117 - loss 0.5583 - acc 0.9457\n",
            "20/117 - loss 0.5337 - acc 0.9472\n",
            "30/117 - loss 0.5114 - acc 0.9485\n",
            "40/117 - loss 0.4910 - acc 0.9496\n",
            "50/117 - loss 0.4723 - acc 0.9508\n",
            "60/117 - loss 0.4550 - acc 0.9521\n",
            "70/117 - loss 0.4389 - acc 0.9531\n",
            "80/117 - loss 0.4239 - acc 0.9538\n",
            "90/117 - loss 0.4099 - acc 0.9549\n",
            "100/117 - loss 0.3967 - acc 0.9556\n",
            "110/117 - loss 0.3842 - acc 0.9566\n",
            "--\n",
            "Validation Loss:  0.3770693\n",
            "Validation Accuracy:  0.9459\n",
            "\n",
            "Epoch 4 / 10\n",
            "--\n",
            "0/117 - loss 0.3759 - acc 0.9572\n",
            "10/117 - loss 0.3645 - acc 0.9579\n",
            "20/117 - loss 0.3537 - acc 0.9585\n",
            "30/117 - loss 0.3434 - acc 0.9592\n",
            "40/117 - loss 0.3335 - acc 0.9601\n",
            "50/117 - loss 0.3241 - acc 0.9605\n",
            "60/117 - loss 0.3151 - acc 0.9611\n",
            "70/117 - loss 0.3064 - acc 0.9618\n",
            "80/117 - loss 0.2981 - acc 0.9622\n",
            "90/117 - loss 0.2902 - acc 0.9627\n",
            "100/117 - loss 0.2826 - acc 0.9633\n",
            "110/117 - loss 0.2753 - acc 0.9640\n",
            "--\n",
            "Validation Loss:  0.27107587\n",
            "Validation Accuracy:  0.9507\n",
            "\n",
            "Epoch 5 / 10\n",
            "--\n",
            "0/117 - loss 0.2704 - acc 0.9643\n",
            "10/117 - loss 0.2636 - acc 0.9647\n",
            "20/117 - loss 0.2570 - acc 0.9654\n",
            "30/117 - loss 0.2507 - acc 0.9660\n",
            "40/117 - loss 0.2446 - acc 0.9663\n",
            "50/117 - loss 0.2387 - acc 0.9667\n",
            "60/117 - loss 0.2331 - acc 0.9670\n",
            "70/117 - loss 0.2276 - acc 0.9674\n",
            "80/117 - loss 0.2223 - acc 0.9680\n",
            "90/117 - loss 0.2172 - acc 0.9685\n",
            "100/117 - loss 0.2123 - acc 0.9689\n",
            "110/117 - loss 0.2076 - acc 0.9693\n",
            "--\n",
            "Validation Loss:  0.20476992\n",
            "Validation Accuracy:  0.9544\n",
            "\n",
            "Epoch 6 / 10\n",
            "--\n",
            "0/117 - loss 0.2043 - acc 0.9695\n",
            "10/117 - loss 0.1998 - acc 0.9699\n",
            "20/117 - loss 0.1955 - acc 0.9704\n",
            "30/117 - loss 0.1912 - acc 0.9708\n",
            "40/117 - loss 0.1871 - acc 0.9710\n",
            "50/117 - loss 0.1832 - acc 0.9715\n",
            "60/117 - loss 0.1793 - acc 0.9719\n",
            "70/117 - loss 0.1755 - acc 0.9725\n",
            "80/117 - loss 0.1719 - acc 0.9729\n",
            "90/117 - loss 0.1684 - acc 0.9732\n",
            "100/117 - loss 0.1649 - acc 0.9736\n",
            "110/117 - loss 0.1616 - acc 0.9741\n",
            "--\n",
            "Validation Loss:  0.15963222\n",
            "Validation Accuracy:  0.9563\n",
            "\n",
            "Epoch 7 / 10\n",
            "--\n",
            "0/117 - loss 0.1593 - acc 0.9743\n",
            "10/117 - loss 0.1561 - acc 0.9747\n",
            "20/117 - loss 0.1531 - acc 0.9753\n",
            "30/117 - loss 0.1501 - acc 0.9756\n",
            "40/117 - loss 0.1471 - acc 0.9761\n",
            "50/117 - loss 0.1443 - acc 0.9765\n",
            "60/117 - loss 0.1415 - acc 0.9767\n",
            "70/117 - loss 0.1388 - acc 0.9772\n",
            "80/117 - loss 0.1362 - acc 0.9777\n",
            "90/117 - loss 0.1337 - acc 0.9779\n",
            "100/117 - loss 0.1312 - acc 0.9783\n",
            "110/117 - loss 0.1287 - acc 0.9786\n",
            "--\n",
            "Validation Loss:  0.12730095\n",
            "Validation Accuracy:  0.9575\n",
            "\n",
            "Epoch 8 / 10\n",
            "--\n",
            "0/117 - loss 0.1271 - acc 0.9787\n",
            "10/117 - loss 0.1247 - acc 0.9790\n",
            "20/117 - loss 0.1225 - acc 0.9792\n",
            "30/117 - loss 0.1202 - acc 0.9794\n",
            "40/117 - loss 0.1181 - acc 0.9797\n",
            "50/117 - loss 0.1160 - acc 0.9800\n",
            "60/117 - loss 0.1139 - acc 0.9802\n",
            "70/117 - loss 0.1118 - acc 0.9805\n",
            "80/117 - loss 0.1098 - acc 0.9808\n",
            "90/117 - loss 0.1079 - acc 0.9812\n",
            "100/117 - loss 0.1060 - acc 0.9814\n",
            "110/117 - loss 0.1041 - acc 0.9816\n",
            "--\n",
            "Validation Loss:  0.10298952\n",
            "Validation Accuracy:  0.9584\n",
            "\n",
            "Epoch 9 / 10\n",
            "--\n",
            "0/117 - loss 0.1028 - acc 0.9818\n",
            "10/117 - loss 0.1010 - acc 0.9821\n",
            "20/117 - loss 0.0992 - acc 0.9824\n",
            "30/117 - loss 0.0975 - acc 0.9826\n",
            "40/117 - loss 0.0957 - acc 0.9828\n",
            "50/117 - loss 0.0941 - acc 0.9830\n",
            "60/117 - loss 0.0924 - acc 0.9832\n",
            "70/117 - loss 0.0908 - acc 0.9834\n",
            "80/117 - loss 0.0892 - acc 0.9836\n",
            "90/117 - loss 0.0876 - acc 0.9839\n",
            "100/117 - loss 0.0861 - acc 0.9841\n",
            "110/117 - loss 0.0846 - acc 0.9843\n",
            "--\n",
            "Validation Loss:  0.08370881\n",
            "Validation Accuracy:  0.9599\n",
            "\n",
            "Epoch 10 / 10\n",
            "--\n",
            "0/117 - loss 0.0836 - acc 0.9844\n",
            "10/117 - loss 0.0821 - acc 0.9847\n",
            "20/117 - loss 0.0807 - acc 0.9848\n",
            "30/117 - loss 0.0793 - acc 0.9850\n",
            "40/117 - loss 0.0779 - acc 0.9852\n",
            "50/117 - loss 0.0765 - acc 0.9854\n",
            "60/117 - loss 0.0752 - acc 0.9858\n",
            "70/117 - loss 0.0739 - acc 0.9861\n",
            "80/117 - loss 0.0726 - acc 0.9863\n",
            "90/117 - loss 0.0713 - acc 0.9865\n",
            "100/117 - loss 0.0701 - acc 0.9868\n",
            "110/117 - loss 0.0689 - acc 0.9870\n",
            "--\n",
            "Validation Loss:  0.06814559\n",
            "Validation Accuracy:  0.9601\n"
          ],
          "name": "stdout"
        }
      ]
    }
  ]
}