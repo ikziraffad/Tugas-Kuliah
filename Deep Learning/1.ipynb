{
  "nbformat": 4,
  "nbformat_minor": 0,
  "metadata": {
    "interpreter": {
      "hash": "8f51ac50b26c1fa86a4007ffc857cb3f30766fc35223a281526475c0ed80941b"
    },
    "kernelspec": {
      "display_name": "Python 3.7.10 64-bit ('base': conda)",
      "language": "python",
      "name": "python3"
    },
    "language_info": {
      "codemirror_mode": {
        "name": "ipython",
        "version": 3
      },
      "file_extension": ".py",
      "mimetype": "text/x-python",
      "name": "python",
      "nbconvert_exporter": "python",
      "pygments_lexer": "ipython3",
      "version": "3.7.10"
    },
    "orig_nbformat": 4,
    "colab": {
      "name": "1.ipynb",
      "provenance": [],
      "collapsed_sections": []
    }
  },
  "cells": [
    {
      "cell_type": "code",
      "metadata": {
        "id": "sOiIYagcgMwZ",
        "colab": {
          "base_uri": "https://localhost:8080/"
        },
        "outputId": "cd736077-f1d7-4e7c-cd1d-0e297c218b79"
      },
      "source": [
        "!pip install tensorflow==1.15.0"
      ],
      "execution_count": 1,
      "outputs": [
        {
          "output_type": "stream",
          "name": "stdout",
          "text": [
            "Requirement already satisfied: tensorflow==1.15.0 in /usr/local/lib/python3.7/dist-packages (1.15.0)\n",
            "Requirement already satisfied: wheel>=0.26 in /usr/local/lib/python3.7/dist-packages (from tensorflow==1.15.0) (0.37.0)\n",
            "Requirement already satisfied: wrapt>=1.11.1 in /usr/local/lib/python3.7/dist-packages (from tensorflow==1.15.0) (1.13.3)\n",
            "Requirement already satisfied: grpcio>=1.8.6 in /usr/local/lib/python3.7/dist-packages (from tensorflow==1.15.0) (1.42.0)\n",
            "Requirement already satisfied: keras-preprocessing>=1.0.5 in /usr/local/lib/python3.7/dist-packages (from tensorflow==1.15.0) (1.1.2)\n",
            "Requirement already satisfied: tensorflow-estimator==1.15.1 in /usr/local/lib/python3.7/dist-packages (from tensorflow==1.15.0) (1.15.1)\n",
            "Requirement already satisfied: opt-einsum>=2.3.2 in /usr/local/lib/python3.7/dist-packages (from tensorflow==1.15.0) (3.3.0)\n",
            "Requirement already satisfied: numpy<2.0,>=1.16.0 in /usr/local/lib/python3.7/dist-packages (from tensorflow==1.15.0) (1.19.5)\n",
            "Requirement already satisfied: astor>=0.6.0 in /usr/local/lib/python3.7/dist-packages (from tensorflow==1.15.0) (0.8.1)\n",
            "Requirement already satisfied: keras-applications>=1.0.8 in /usr/local/lib/python3.7/dist-packages (from tensorflow==1.15.0) (1.0.8)\n",
            "Requirement already satisfied: gast==0.2.2 in /usr/local/lib/python3.7/dist-packages (from tensorflow==1.15.0) (0.2.2)\n",
            "Requirement already satisfied: protobuf>=3.6.1 in /usr/local/lib/python3.7/dist-packages (from tensorflow==1.15.0) (3.17.3)\n",
            "Requirement already satisfied: termcolor>=1.1.0 in /usr/local/lib/python3.7/dist-packages (from tensorflow==1.15.0) (1.1.0)\n",
            "Requirement already satisfied: six>=1.10.0 in /usr/local/lib/python3.7/dist-packages (from tensorflow==1.15.0) (1.15.0)\n",
            "Requirement already satisfied: tensorboard<1.16.0,>=1.15.0 in /usr/local/lib/python3.7/dist-packages (from tensorflow==1.15.0) (1.15.0)\n",
            "Requirement already satisfied: absl-py>=0.7.0 in /usr/local/lib/python3.7/dist-packages (from tensorflow==1.15.0) (0.12.0)\n",
            "Requirement already satisfied: google-pasta>=0.1.6 in /usr/local/lib/python3.7/dist-packages (from tensorflow==1.15.0) (0.2.0)\n",
            "Requirement already satisfied: h5py in /usr/local/lib/python3.7/dist-packages (from keras-applications>=1.0.8->tensorflow==1.15.0) (3.1.0)\n",
            "Requirement already satisfied: werkzeug>=0.11.15 in /usr/local/lib/python3.7/dist-packages (from tensorboard<1.16.0,>=1.15.0->tensorflow==1.15.0) (1.0.1)\n",
            "Requirement already satisfied: markdown>=2.6.8 in /usr/local/lib/python3.7/dist-packages (from tensorboard<1.16.0,>=1.15.0->tensorflow==1.15.0) (3.3.6)\n",
            "Requirement already satisfied: setuptools>=41.0.0 in /usr/local/lib/python3.7/dist-packages (from tensorboard<1.16.0,>=1.15.0->tensorflow==1.15.0) (57.4.0)\n",
            "Requirement already satisfied: importlib-metadata>=4.4 in /usr/local/lib/python3.7/dist-packages (from markdown>=2.6.8->tensorboard<1.16.0,>=1.15.0->tensorflow==1.15.0) (4.8.2)\n",
            "Requirement already satisfied: typing-extensions>=3.6.4 in /usr/local/lib/python3.7/dist-packages (from importlib-metadata>=4.4->markdown>=2.6.8->tensorboard<1.16.0,>=1.15.0->tensorflow==1.15.0) (3.10.0.2)\n",
            "Requirement already satisfied: zipp>=0.5 in /usr/local/lib/python3.7/dist-packages (from importlib-metadata>=4.4->markdown>=2.6.8->tensorboard<1.16.0,>=1.15.0->tensorflow==1.15.0) (3.6.0)\n",
            "Requirement already satisfied: cached-property in /usr/local/lib/python3.7/dist-packages (from h5py->keras-applications>=1.0.8->tensorflow==1.15.0) (1.5.2)\n"
          ]
        }
      ]
    },
    {
      "cell_type": "code",
      "metadata": {
        "id": "6QaOUGs4gIeX"
      },
      "source": [
        "import tensorflow as tf\n",
        "import pandas as pd\n",
        "import numpy as np\n",
        "from sklearn.preprocessing import MinMaxScaler, LabelEncoder, StandardScaler\n",
        "from sklearn.preprocessing import OrdinalEncoder\n",
        "from sklearn.preprocessing import OneHotEncoder\n",
        "from sklearn.model_selection import train_test_split\n",
        "import tensorflow.keras.backend as K\n",
        "import matplotlib.pyplot as plt"
      ],
      "execution_count": 2,
      "outputs": []
    },
    {
      "cell_type": "code",
      "metadata": {
        "id": "434kS-xl9qoC"
      },
      "source": [
        "def f1_metric(y_true, y_pred):\n",
        "  true_positives = K.sum(K.round(K.clip(y_true * y_pred, 0, 1)))\n",
        "  possible_positives = K.sum(K.round(K.clip(y_true, 0, 1)))\n",
        "  predicted_positives = K.sum(K.round(K.clip(y_pred, 0, 1)))\n",
        "  precision = true_positives / (predicted_positives + K.epsilon())\n",
        "  recall = true_positives / (possible_positives + K.epsilon())\n",
        "  f1_val = 2*(precision*recall)/(precision+recall+K.epsilon())\n",
        "  return f1_val\n",
        "\n",
        "def import_data():\n",
        "  train_df = pd.read_csv(\"train.csv\")\n",
        "  test_df = pd.read_csv(\"test.csv\")\n",
        "\n",
        "  x=train_df[[\"age\", \"workclass\", \"fnlwgt\", \"educational-num\", \"gender\",\"hours-per-week\", \"income_>50K\"]]\n",
        "  y=test_df[[\"age\", \"workclass\", \"fnlwgt\", \"educational-num\", \"gender\",\"hours-per-week\"]]\n",
        "  return x, y"
      ],
      "execution_count": 3,
      "outputs": []
    },
    {
      "cell_type": "code",
      "metadata": {
        "id": "kHJdfxLehTiO"
      },
      "source": [
        "train_dataset, test_dataset = import_data()"
      ],
      "execution_count": 4,
      "outputs": []
    },
    {
      "cell_type": "code",
      "metadata": {
        "id": "H-NmBxbegIed"
      },
      "source": [
        "LE = LabelEncoder()\n",
        "col_name = [\"workclass\", \"gender\"]\n",
        "train_dataset[col_name] = train_dataset[col_name].apply(LE.fit_transform)\n",
        "test_dataset[col_name] = test_dataset[col_name].apply(LE.fit_transform)"
      ],
      "execution_count": 5,
      "outputs": []
    },
    {
      "cell_type": "code",
      "metadata": {
        "id": "9rMEqssggIee"
      },
      "source": [
        "x_train = train_dataset.drop([\"income_>50K\"],axis =1)\n",
        "y_train = np.array(train_dataset[\"income_>50K\"]).reshape(-1,1)\n",
        "x_test = test_dataset"
      ],
      "execution_count": 6,
      "outputs": []
    },
    {
      "cell_type": "code",
      "metadata": {
        "id": "jhZkqRob-_8d"
      },
      "source": [
        "SS = StandardScaler()\n",
        "x_train = SS.fit_transform(x_train)\n",
        "x_test = SS.transform(x_test)"
      ],
      "execution_count": 7,
      "outputs": []
    },
    {
      "cell_type": "code",
      "metadata": {
        "id": "hCVdhycngIef",
        "colab": {
          "base_uri": "https://localhost:8080/"
        },
        "outputId": "7d880637-ffc9-4894-8610-34a55fd4a4e8"
      },
      "source": [
        "models = tf.keras.models.Sequential()\n",
        "models.add(tf.keras.layers.Dense(6, activation='relu', input_shape = (6, )))\n",
        "models.add(tf.keras.layers.Dense(2, activation='relu'))\n",
        "models.add(tf.keras.layers.Dense(1, activation='sigmoid'))\n",
        "models.compile(optimizer=tf.keras.optimizers.Adam(0.001), loss=\"binary_crossentropy\", metrics = ['accuracy', tf.keras.metrics.Recall(), tf.keras.metrics.Precision(), f1_metric])\n"
      ],
      "execution_count": 8,
      "outputs": [
        {
          "output_type": "stream",
          "name": "stdout",
          "text": [
            "WARNING:tensorflow:From /usr/local/lib/python3.7/dist-packages/tensorflow_core/python/ops/resource_variable_ops.py:1630: calling BaseResourceVariable.__init__ (from tensorflow.python.ops.resource_variable_ops) with constraint is deprecated and will be removed in a future version.\n",
            "Instructions for updating:\n",
            "If using Keras pass *_constraint arguments to layers.\n",
            "WARNING:tensorflow:From /usr/local/lib/python3.7/dist-packages/tensorflow_core/python/ops/nn_impl.py:183: where (from tensorflow.python.ops.array_ops) is deprecated and will be removed in a future version.\n",
            "Instructions for updating:\n",
            "Use tf.where in 2.0, which has the same broadcast rule as np.where\n"
          ]
        }
      ]
    },
    {
      "cell_type": "code",
      "metadata": {
        "id": "43hwz-wvgIeg",
        "colab": {
          "base_uri": "https://localhost:8080/"
        },
        "outputId": "1622aa3a-43b8-4530-d6bd-fb3242ea28aa"
      },
      "source": [
        "baseline_history = models.fit(x_train, y_train, validation_split=0.3, epochs=100)"
      ],
      "execution_count": 9,
      "outputs": [
        {
          "output_type": "stream",
          "name": "stdout",
          "text": [
            "Train on 30769 samples, validate on 13188 samples\n",
            "Epoch 1/100\n",
            "30769/30769 [==============================] - 1s 44us/sample - loss: 0.4882 - acc: 0.7401 - recall: 0.0743 - precision: 0.3182 - f1_metric: 0.0977 - val_loss: 0.4297 - val_acc: 0.7806 - val_recall: 0.2133 - val_precision: 0.6156 - val_f1_metric: 0.2968\n",
            "Epoch 2/100\n",
            "30769/30769 [==============================] - 1s 41us/sample - loss: 0.4244 - acc: 0.7973 - recall: 0.4303 - precision: 0.6088 - f1_metric: 0.4782 - val_loss: 0.4134 - val_acc: 0.8093 - val_recall: 0.4688 - val_precision: 0.6361 - val_f1_metric: 0.5219\n",
            "Epoch 3/100\n",
            "30769/30769 [==============================] - 1s 41us/sample - loss: 0.4135 - acc: 0.8069 - recall: 0.4565 - precision: 0.6348 - f1_metric: 0.5102 - val_loss: 0.4083 - val_acc: 0.8076 - val_recall: 0.4425 - val_precision: 0.6400 - val_f1_metric: 0.5003\n",
            "Epoch 4/100\n",
            "30769/30769 [==============================] - 1s 43us/sample - loss: 0.4098 - acc: 0.8080 - recall: 0.4451 - precision: 0.6435 - f1_metric: 0.5054 - val_loss: 0.4067 - val_acc: 0.8079 - val_recall: 0.4523 - val_precision: 0.6370 - val_f1_metric: 0.5099\n",
            "Epoch 5/100\n",
            "30769/30769 [==============================] - 1s 41us/sample - loss: 0.4081 - acc: 0.8084 - recall: 0.4438 - precision: 0.6456 - f1_metric: 0.5037 - val_loss: 0.4060 - val_acc: 0.8091 - val_recall: 0.4196 - val_precision: 0.6564 - val_f1_metric: 0.4908\n",
            "Epoch 6/100\n",
            "30769/30769 [==============================] - 1s 43us/sample - loss: 0.4068 - acc: 0.8090 - recall: 0.4371 - precision: 0.6512 - f1_metric: 0.5034 - val_loss: 0.4053 - val_acc: 0.8102 - val_recall: 0.4352 - val_precision: 0.6535 - val_f1_metric: 0.5030\n",
            "Epoch 7/100\n",
            "30769/30769 [==============================] - 1s 41us/sample - loss: 0.4061 - acc: 0.8094 - recall: 0.4434 - precision: 0.6498 - f1_metric: 0.5069 - val_loss: 0.4051 - val_acc: 0.8093 - val_recall: 0.4097 - val_precision: 0.6620 - val_f1_metric: 0.4839\n",
            "Epoch 8/100\n",
            "30769/30769 [==============================] - 1s 43us/sample - loss: 0.4056 - acc: 0.8091 - recall: 0.4376 - precision: 0.6512 - f1_metric: 0.5011 - val_loss: 0.4047 - val_acc: 0.8093 - val_recall: 0.4116 - val_precision: 0.6611 - val_f1_metric: 0.4879\n",
            "Epoch 9/100\n",
            "30769/30769 [==============================] - 1s 40us/sample - loss: 0.4052 - acc: 0.8089 - recall: 0.4367 - precision: 0.6508 - f1_metric: 0.5019 - val_loss: 0.4037 - val_acc: 0.8107 - val_recall: 0.4441 - val_precision: 0.6516 - val_f1_metric: 0.5070\n",
            "Epoch 10/100\n",
            "30769/30769 [==============================] - 1s 42us/sample - loss: 0.4051 - acc: 0.8094 - recall: 0.4440 - precision: 0.6497 - f1_metric: 0.5062 - val_loss: 0.4038 - val_acc: 0.8092 - val_recall: 0.4139 - val_precision: 0.6596 - val_f1_metric: 0.4860\n",
            "Epoch 11/100\n",
            "30769/30769 [==============================] - 1s 41us/sample - loss: 0.4047 - acc: 0.8087 - recall: 0.4392 - precision: 0.6490 - f1_metric: 0.5029 - val_loss: 0.4038 - val_acc: 0.8094 - val_recall: 0.4180 - val_precision: 0.6582 - val_f1_metric: 0.4889\n",
            "Epoch 12/100\n",
            "30769/30769 [==============================] - 1s 42us/sample - loss: 0.4047 - acc: 0.8096 - recall: 0.4418 - precision: 0.6513 - f1_metric: 0.5064 - val_loss: 0.4034 - val_acc: 0.8103 - val_recall: 0.4307 - val_precision: 0.6559 - val_f1_metric: 0.4967\n",
            "Epoch 13/100\n",
            "30769/30769 [==============================] - 1s 43us/sample - loss: 0.4045 - acc: 0.8096 - recall: 0.4428 - precision: 0.6510 - f1_metric: 0.5058 - val_loss: 0.4034 - val_acc: 0.8104 - val_recall: 0.4320 - val_precision: 0.6556 - val_f1_metric: 0.5017\n",
            "Epoch 14/100\n",
            "30769/30769 [==============================] - 1s 42us/sample - loss: 0.4044 - acc: 0.8096 - recall: 0.4464 - precision: 0.6492 - f1_metric: 0.5021 - val_loss: 0.4041 - val_acc: 0.8093 - val_recall: 0.4015 - val_precision: 0.6665 - val_f1_metric: 0.4759\n",
            "Epoch 15/100\n",
            "30769/30769 [==============================] - 1s 43us/sample - loss: 0.4043 - acc: 0.8095 - recall: 0.4417 - precision: 0.6509 - f1_metric: 0.5081 - val_loss: 0.4035 - val_acc: 0.8105 - val_recall: 0.4501 - val_precision: 0.6481 - val_f1_metric: 0.5074\n",
            "Epoch 16/100\n",
            "30769/30769 [==============================] - 1s 43us/sample - loss: 0.4042 - acc: 0.8094 - recall: 0.4419 - precision: 0.6503 - f1_metric: 0.5071 - val_loss: 0.4031 - val_acc: 0.8115 - val_recall: 0.4371 - val_precision: 0.6579 - val_f1_metric: 0.5004\n",
            "Epoch 17/100\n",
            "30769/30769 [==============================] - 1s 41us/sample - loss: 0.4041 - acc: 0.8091 - recall: 0.4442 - precision: 0.6483 - f1_metric: 0.5043 - val_loss: 0.4033 - val_acc: 0.8099 - val_recall: 0.4307 - val_precision: 0.6543 - val_f1_metric: 0.4972\n",
            "Epoch 18/100\n",
            "30769/30769 [==============================] - 1s 43us/sample - loss: 0.4039 - acc: 0.8094 - recall: 0.4447 - precision: 0.6491 - f1_metric: 0.5034 - val_loss: 0.4032 - val_acc: 0.8104 - val_recall: 0.4355 - val_precision: 0.6539 - val_f1_metric: 0.5053\n",
            "Epoch 19/100\n",
            "30769/30769 [==============================] - 1s 41us/sample - loss: 0.4037 - acc: 0.8097 - recall: 0.4466 - precision: 0.6496 - f1_metric: 0.5059 - val_loss: 0.4033 - val_acc: 0.8091 - val_recall: 0.4104 - val_precision: 0.6607 - val_f1_metric: 0.4821\n",
            "Epoch 20/100\n",
            "30769/30769 [==============================] - 1s 43us/sample - loss: 0.4038 - acc: 0.8094 - recall: 0.4421 - precision: 0.6504 - f1_metric: 0.5035 - val_loss: 0.4029 - val_acc: 0.8107 - val_recall: 0.4437 - val_precision: 0.6517 - val_f1_metric: 0.5034\n",
            "Epoch 21/100\n",
            "30769/30769 [==============================] - 1s 45us/sample - loss: 0.4035 - acc: 0.8095 - recall: 0.4444 - precision: 0.6496 - f1_metric: 0.5021 - val_loss: 0.4030 - val_acc: 0.8109 - val_recall: 0.4463 - val_precision: 0.6512 - val_f1_metric: 0.5118\n",
            "Epoch 22/100\n",
            "30769/30769 [==============================] - 1s 44us/sample - loss: 0.4035 - acc: 0.8099 - recall: 0.4467 - precision: 0.6504 - f1_metric: 0.5076 - val_loss: 0.4031 - val_acc: 0.8102 - val_recall: 0.4151 - val_precision: 0.6633 - val_f1_metric: 0.4823\n",
            "Epoch 23/100\n",
            "30769/30769 [==============================] - 1s 44us/sample - loss: 0.4034 - acc: 0.8087 - recall: 0.4352 - precision: 0.6508 - f1_metric: 0.4971 - val_loss: 0.4032 - val_acc: 0.8105 - val_recall: 0.4580 - val_precision: 0.6447 - val_f1_metric: 0.5155\n",
            "Epoch 24/100\n",
            "30769/30769 [==============================] - 1s 42us/sample - loss: 0.4035 - acc: 0.8104 - recall: 0.4461 - precision: 0.6527 - f1_metric: 0.5075 - val_loss: 0.4031 - val_acc: 0.8099 - val_recall: 0.4113 - val_precision: 0.6639 - val_f1_metric: 0.4855\n",
            "Epoch 25/100\n",
            "30769/30769 [==============================] - 1s 41us/sample - loss: 0.4034 - acc: 0.8101 - recall: 0.4428 - precision: 0.6529 - f1_metric: 0.5017 - val_loss: 0.4030 - val_acc: 0.8111 - val_recall: 0.4323 - val_precision: 0.6586 - val_f1_metric: 0.4977\n",
            "Epoch 26/100\n",
            "30769/30769 [==============================] - 1s 42us/sample - loss: 0.4034 - acc: 0.8097 - recall: 0.4405 - precision: 0.6525 - f1_metric: 0.5051 - val_loss: 0.4029 - val_acc: 0.8116 - val_recall: 0.4361 - val_precision: 0.6587 - val_f1_metric: 0.5034\n",
            "Epoch 27/100\n",
            "30769/30769 [==============================] - 1s 42us/sample - loss: 0.4033 - acc: 0.8096 - recall: 0.4438 - precision: 0.6504 - f1_metric: 0.5076 - val_loss: 0.4029 - val_acc: 0.8108 - val_recall: 0.4240 - val_precision: 0.6614 - val_f1_metric: 0.4934\n",
            "Epoch 28/100\n",
            "30769/30769 [==============================] - 1s 42us/sample - loss: 0.4032 - acc: 0.8098 - recall: 0.4406 - precision: 0.6526 - f1_metric: 0.5055 - val_loss: 0.4027 - val_acc: 0.8110 - val_recall: 0.4304 - val_precision: 0.6592 - val_f1_metric: 0.4990\n",
            "Epoch 29/100\n",
            "30769/30769 [==============================] - 1s 45us/sample - loss: 0.4032 - acc: 0.8097 - recall: 0.4406 - precision: 0.6525 - f1_metric: 0.5110 - val_loss: 0.4026 - val_acc: 0.8111 - val_recall: 0.4301 - val_precision: 0.6597 - val_f1_metric: 0.4954\n",
            "Epoch 30/100\n",
            "30769/30769 [==============================] - 1s 44us/sample - loss: 0.4031 - acc: 0.8093 - recall: 0.4445 - precision: 0.6489 - f1_metric: 0.5061 - val_loss: 0.4034 - val_acc: 0.8099 - val_recall: 0.4053 - val_precision: 0.6672 - val_f1_metric: 0.4825\n",
            "Epoch 31/100\n",
            "30769/30769 [==============================] - 1s 42us/sample - loss: 0.4029 - acc: 0.8095 - recall: 0.4407 - precision: 0.6514 - f1_metric: 0.5038 - val_loss: 0.4033 - val_acc: 0.8104 - val_recall: 0.4059 - val_precision: 0.6693 - val_f1_metric: 0.4841\n",
            "Epoch 32/100\n",
            "30769/30769 [==============================] - 1s 41us/sample - loss: 0.4030 - acc: 0.8094 - recall: 0.4395 - precision: 0.6514 - f1_metric: 0.5043 - val_loss: 0.4029 - val_acc: 0.8106 - val_recall: 0.4291 - val_precision: 0.6579 - val_f1_metric: 0.4865\n",
            "Epoch 33/100\n",
            "30769/30769 [==============================] - 1s 43us/sample - loss: 0.4030 - acc: 0.8094 - recall: 0.4399 - precision: 0.6512 - f1_metric: 0.5021 - val_loss: 0.4026 - val_acc: 0.8119 - val_recall: 0.4317 - val_precision: 0.6621 - val_f1_metric: 0.4980\n",
            "Epoch 34/100\n",
            "30769/30769 [==============================] - 1s 41us/sample - loss: 0.4028 - acc: 0.8091 - recall: 0.4387 - precision: 0.6508 - f1_metric: 0.5013 - val_loss: 0.4026 - val_acc: 0.8106 - val_recall: 0.4371 - val_precision: 0.6541 - val_f1_metric: 0.4972\n",
            "Epoch 35/100\n",
            "30769/30769 [==============================] - 1s 44us/sample - loss: 0.4028 - acc: 0.8095 - recall: 0.4438 - precision: 0.6501 - f1_metric: 0.5104 - val_loss: 0.4032 - val_acc: 0.8106 - val_recall: 0.4180 - val_precision: 0.6635 - val_f1_metric: 0.4911\n",
            "Epoch 36/100\n",
            "30769/30769 [==============================] - 1s 42us/sample - loss: 0.4028 - acc: 0.8092 - recall: 0.4376 - precision: 0.6517 - f1_metric: 0.5051 - val_loss: 0.4031 - val_acc: 0.8105 - val_recall: 0.4536 - val_precision: 0.6466 - val_f1_metric: 0.5083\n",
            "Epoch 37/100\n",
            "30769/30769 [==============================] - 1s 43us/sample - loss: 0.4027 - acc: 0.8095 - recall: 0.4436 - precision: 0.6504 - f1_metric: 0.5091 - val_loss: 0.4032 - val_acc: 0.8101 - val_recall: 0.4002 - val_precision: 0.6708 - val_f1_metric: 0.4742\n",
            "Epoch 38/100\n",
            "30769/30769 [==============================] - 1s 42us/sample - loss: 0.4027 - acc: 0.8095 - recall: 0.4364 - precision: 0.6535 - f1_metric: 0.5020 - val_loss: 0.4027 - val_acc: 0.8115 - val_recall: 0.4285 - val_precision: 0.6621 - val_f1_metric: 0.4996\n",
            "Epoch 39/100\n",
            "30769/30769 [==============================] - 1s 41us/sample - loss: 0.4027 - acc: 0.8095 - recall: 0.4403 - precision: 0.6514 - f1_metric: 0.5031 - val_loss: 0.4026 - val_acc: 0.8118 - val_recall: 0.4263 - val_precision: 0.6645 - val_f1_metric: 0.4926\n",
            "Epoch 40/100\n",
            "30769/30769 [==============================] - 1s 42us/sample - loss: 0.4026 - acc: 0.8092 - recall: 0.4386 - precision: 0.6512 - f1_metric: 0.5014 - val_loss: 0.4028 - val_acc: 0.8115 - val_recall: 0.4243 - val_precision: 0.6642 - val_f1_metric: 0.4931\n",
            "Epoch 41/100\n",
            "30769/30769 [==============================] - 1s 41us/sample - loss: 0.4025 - acc: 0.8101 - recall: 0.4410 - precision: 0.6537 - f1_metric: 0.5078 - val_loss: 0.4027 - val_acc: 0.8116 - val_recall: 0.4193 - val_precision: 0.6672 - val_f1_metric: 0.4911\n",
            "Epoch 42/100\n",
            "30769/30769 [==============================] - 1s 41us/sample - loss: 0.4026 - acc: 0.8102 - recall: 0.4413 - precision: 0.6541 - f1_metric: 0.5073 - val_loss: 0.4030 - val_acc: 0.8110 - val_recall: 0.4154 - val_precision: 0.6668 - val_f1_metric: 0.4929\n",
            "Epoch 43/100\n",
            "30769/30769 [==============================] - 1s 42us/sample - loss: 0.4025 - acc: 0.8096 - recall: 0.4392 - precision: 0.6524 - f1_metric: 0.5026 - val_loss: 0.4035 - val_acc: 0.8106 - val_recall: 0.4005 - val_precision: 0.6731 - val_f1_metric: 0.4777\n",
            "Epoch 44/100\n",
            "30769/30769 [==============================] - 1s 42us/sample - loss: 0.4024 - acc: 0.8096 - recall: 0.4383 - precision: 0.6530 - f1_metric: 0.5024 - val_loss: 0.4028 - val_acc: 0.8119 - val_recall: 0.4247 - val_precision: 0.6657 - val_f1_metric: 0.4952\n",
            "Epoch 45/100\n",
            "30769/30769 [==============================] - 1s 43us/sample - loss: 0.4024 - acc: 0.8101 - recall: 0.4410 - precision: 0.6537 - f1_metric: 0.5062 - val_loss: 0.4024 - val_acc: 0.8125 - val_recall: 0.4336 - val_precision: 0.6637 - val_f1_metric: 0.4934\n",
            "Epoch 46/100\n",
            "30769/30769 [==============================] - 1s 42us/sample - loss: 0.4022 - acc: 0.8103 - recall: 0.4407 - precision: 0.6546 - f1_metric: 0.5059 - val_loss: 0.4025 - val_acc: 0.8125 - val_recall: 0.4301 - val_precision: 0.6655 - val_f1_metric: 0.5019\n",
            "Epoch 47/100\n",
            "30769/30769 [==============================] - 1s 42us/sample - loss: 0.4026 - acc: 0.8097 - recall: 0.4395 - precision: 0.6528 - f1_metric: 0.5025 - val_loss: 0.4026 - val_acc: 0.8117 - val_recall: 0.4167 - val_precision: 0.6692 - val_f1_metric: 0.4850\n",
            "Epoch 48/100\n",
            "30769/30769 [==============================] - 1s 43us/sample - loss: 0.4023 - acc: 0.8103 - recall: 0.4390 - precision: 0.6555 - f1_metric: 0.5003 - val_loss: 0.4024 - val_acc: 0.8118 - val_recall: 0.4288 - val_precision: 0.6632 - val_f1_metric: 0.4960\n",
            "Epoch 49/100\n",
            "30769/30769 [==============================] - 1s 43us/sample - loss: 0.4022 - acc: 0.8099 - recall: 0.4422 - precision: 0.6524 - f1_metric: 0.5039 - val_loss: 0.4048 - val_acc: 0.8087 - val_recall: 0.3754 - val_precision: 0.6791 - val_f1_metric: 0.4563\n",
            "Epoch 50/100\n",
            "30769/30769 [==============================] - 1s 43us/sample - loss: 0.4023 - acc: 0.8103 - recall: 0.4354 - precision: 0.6570 - f1_metric: 0.5004 - val_loss: 0.4024 - val_acc: 0.8122 - val_recall: 0.4348 - val_precision: 0.6618 - val_f1_metric: 0.5087\n",
            "Epoch 51/100\n",
            "30769/30769 [==============================] - 1s 44us/sample - loss: 0.4022 - acc: 0.8096 - recall: 0.4383 - precision: 0.6531 - f1_metric: 0.5033 - val_loss: 0.4028 - val_acc: 0.8115 - val_recall: 0.4358 - val_precision: 0.6585 - val_f1_metric: 0.5029\n",
            "Epoch 52/100\n",
            "30769/30769 [==============================] - 1s 42us/sample - loss: 0.4022 - acc: 0.8097 - recall: 0.4356 - precision: 0.6545 - f1_metric: 0.4980 - val_loss: 0.4027 - val_acc: 0.8112 - val_recall: 0.4495 - val_precision: 0.6510 - val_f1_metric: 0.5092\n",
            "Epoch 53/100\n",
            "30769/30769 [==============================] - 1s 43us/sample - loss: 0.4021 - acc: 0.8106 - recall: 0.4402 - precision: 0.6561 - f1_metric: 0.5025 - val_loss: 0.4025 - val_acc: 0.8122 - val_recall: 0.4237 - val_precision: 0.6675 - val_f1_metric: 0.4978\n",
            "Epoch 54/100\n",
            "30769/30769 [==============================] - 1s 42us/sample - loss: 0.4021 - acc: 0.8100 - recall: 0.4387 - precision: 0.6543 - f1_metric: 0.5001 - val_loss: 0.4024 - val_acc: 0.8119 - val_recall: 0.4174 - val_precision: 0.6696 - val_f1_metric: 0.4930\n",
            "Epoch 55/100\n",
            "30769/30769 [==============================] - 1s 43us/sample - loss: 0.4021 - acc: 0.8101 - recall: 0.4361 - precision: 0.6560 - f1_metric: 0.5036 - val_loss: 0.4025 - val_acc: 0.8126 - val_recall: 0.4323 - val_precision: 0.6650 - val_f1_metric: 0.5039\n",
            "Epoch 56/100\n",
            "30769/30769 [==============================] - 1s 44us/sample - loss: 0.4020 - acc: 0.8112 - recall: 0.4383 - precision: 0.6595 - f1_metric: 0.5018 - val_loss: 0.4024 - val_acc: 0.8120 - val_recall: 0.4263 - val_precision: 0.6655 - val_f1_metric: 0.5007\n",
            "Epoch 57/100\n",
            "30769/30769 [==============================] - 1s 42us/sample - loss: 0.4019 - acc: 0.8099 - recall: 0.4342 - precision: 0.6559 - f1_metric: 0.5011 - val_loss: 0.4027 - val_acc: 0.8130 - val_recall: 0.4253 - val_precision: 0.6703 - val_f1_metric: 0.4939\n",
            "Epoch 58/100\n",
            "30769/30769 [==============================] - 1s 43us/sample - loss: 0.4020 - acc: 0.8102 - recall: 0.4387 - precision: 0.6553 - f1_metric: 0.5020 - val_loss: 0.4022 - val_acc: 0.8117 - val_recall: 0.4237 - val_precision: 0.6655 - val_f1_metric: 0.4907\n",
            "Epoch 59/100\n",
            "30769/30769 [==============================] - 1s 42us/sample - loss: 0.4019 - acc: 0.8103 - recall: 0.4361 - precision: 0.6567 - f1_metric: 0.5039 - val_loss: 0.4025 - val_acc: 0.8118 - val_recall: 0.4339 - val_precision: 0.6607 - val_f1_metric: 0.5015\n",
            "Epoch 60/100\n",
            "30769/30769 [==============================] - 1s 43us/sample - loss: 0.4019 - acc: 0.8100 - recall: 0.4339 - precision: 0.6565 - f1_metric: 0.5021 - val_loss: 0.4025 - val_acc: 0.8121 - val_recall: 0.4193 - val_precision: 0.6695 - val_f1_metric: 0.4952\n",
            "Epoch 61/100\n",
            "30769/30769 [==============================] - 1s 42us/sample - loss: 0.4018 - acc: 0.8097 - recall: 0.4319 - precision: 0.6565 - f1_metric: 0.4961 - val_loss: 0.4025 - val_acc: 0.8118 - val_recall: 0.4110 - val_precision: 0.6727 - val_f1_metric: 0.4905\n",
            "Epoch 62/100\n",
            "30769/30769 [==============================] - 1s 43us/sample - loss: 0.4018 - acc: 0.8104 - recall: 0.4348 - precision: 0.6580 - f1_metric: 0.5038 - val_loss: 0.4025 - val_acc: 0.8117 - val_recall: 0.4158 - val_precision: 0.6697 - val_f1_metric: 0.4910\n",
            "Epoch 63/100\n",
            "30769/30769 [==============================] - 1s 42us/sample - loss: 0.4017 - acc: 0.8109 - recall: 0.4346 - precision: 0.6602 - f1_metric: 0.5053 - val_loss: 0.4033 - val_acc: 0.8117 - val_recall: 0.3986 - val_precision: 0.6797 - val_f1_metric: 0.4803\n",
            "Epoch 64/100\n",
            "30769/30769 [==============================] - 1s 43us/sample - loss: 0.4016 - acc: 0.8110 - recall: 0.4292 - precision: 0.6632 - f1_metric: 0.5003 - val_loss: 0.4028 - val_acc: 0.8115 - val_recall: 0.4491 - val_precision: 0.6524 - val_f1_metric: 0.5083\n",
            "Epoch 65/100\n",
            "30769/30769 [==============================] - 1s 44us/sample - loss: 0.4017 - acc: 0.8104 - recall: 0.4327 - precision: 0.6588 - f1_metric: 0.4996 - val_loss: 0.4027 - val_acc: 0.8113 - val_recall: 0.4399 - val_precision: 0.6559 - val_f1_metric: 0.5020\n",
            "Epoch 66/100\n",
            "30769/30769 [==============================] - 1s 44us/sample - loss: 0.4018 - acc: 0.8108 - recall: 0.4341 - precision: 0.6599 - f1_metric: 0.5047 - val_loss: 0.4023 - val_acc: 0.8116 - val_recall: 0.4332 - val_precision: 0.6604 - val_f1_metric: 0.4975\n",
            "Epoch 67/100\n",
            "30769/30769 [==============================] - 1s 45us/sample - loss: 0.4015 - acc: 0.8111 - recall: 0.4349 - precision: 0.6606 - f1_metric: 0.5035 - val_loss: 0.4031 - val_acc: 0.8128 - val_recall: 0.4046 - val_precision: 0.6811 - val_f1_metric: 0.4824\n",
            "Epoch 68/100\n",
            "30769/30769 [==============================] - 1s 45us/sample - loss: 0.4018 - acc: 0.8099 - recall: 0.4323 - precision: 0.6570 - f1_metric: 0.5009 - val_loss: 0.4023 - val_acc: 0.8116 - val_recall: 0.4221 - val_precision: 0.6657 - val_f1_metric: 0.4988\n",
            "Epoch 69/100\n",
            "30769/30769 [==============================] - 1s 43us/sample - loss: 0.4015 - acc: 0.8103 - recall: 0.4300 - precision: 0.6599 - f1_metric: 0.5001 - val_loss: 0.4027 - val_acc: 0.8120 - val_recall: 0.4228 - val_precision: 0.6670 - val_f1_metric: 0.4855\n",
            "Epoch 70/100\n",
            "30769/30769 [==============================] - 1s 44us/sample - loss: 0.4016 - acc: 0.8101 - recall: 0.4326 - precision: 0.6577 - f1_metric: 0.4968 - val_loss: 0.4025 - val_acc: 0.8120 - val_recall: 0.4196 - val_precision: 0.6690 - val_f1_metric: 0.4962\n",
            "Epoch 71/100\n",
            "30769/30769 [==============================] - 1s 42us/sample - loss: 0.4017 - acc: 0.8104 - recall: 0.4315 - precision: 0.6595 - f1_metric: 0.5011 - val_loss: 0.4027 - val_acc: 0.8111 - val_recall: 0.4377 - val_precision: 0.6560 - val_f1_metric: 0.5032\n",
            "Epoch 72/100\n",
            "30769/30769 [==============================] - 1s 42us/sample - loss: 0.4015 - acc: 0.8113 - recall: 0.4350 - precision: 0.6614 - f1_metric: 0.5012 - val_loss: 0.4025 - val_acc: 0.8114 - val_recall: 0.4205 - val_precision: 0.6658 - val_f1_metric: 0.4958\n",
            "Epoch 73/100\n",
            "30769/30769 [==============================] - 1s 43us/sample - loss: 0.4016 - acc: 0.8107 - recall: 0.4326 - precision: 0.6600 - f1_metric: 0.5004 - val_loss: 0.4026 - val_acc: 0.8120 - val_recall: 0.4205 - val_precision: 0.6685 - val_f1_metric: 0.4898\n",
            "Epoch 74/100\n",
            "30769/30769 [==============================] - 1s 42us/sample - loss: 0.4015 - acc: 0.8112 - recall: 0.4339 - precision: 0.6616 - f1_metric: 0.5019 - val_loss: 0.4040 - val_acc: 0.8111 - val_recall: 0.3821 - val_precision: 0.6872 - val_f1_metric: 0.4652\n",
            "Epoch 75/100\n",
            "30769/30769 [==============================] - 1s 43us/sample - loss: 0.4015 - acc: 0.8109 - recall: 0.4310 - precision: 0.6617 - f1_metric: 0.4997 - val_loss: 0.4033 - val_acc: 0.8122 - val_recall: 0.3986 - val_precision: 0.6819 - val_f1_metric: 0.4844\n",
            "Epoch 76/100\n",
            "30769/30769 [==============================] - 1s 41us/sample - loss: 0.4016 - acc: 0.8104 - recall: 0.4303 - precision: 0.6599 - f1_metric: 0.4946 - val_loss: 0.4026 - val_acc: 0.8120 - val_recall: 0.4361 - val_precision: 0.6603 - val_f1_metric: 0.5024\n",
            "Epoch 77/100\n",
            "30769/30769 [==============================] - 1s 44us/sample - loss: 0.4016 - acc: 0.8102 - recall: 0.4329 - precision: 0.6579 - f1_metric: 0.5007 - val_loss: 0.4033 - val_acc: 0.8120 - val_recall: 0.4015 - val_precision: 0.6794 - val_f1_metric: 0.4800\n",
            "Epoch 78/100\n",
            "30769/30769 [==============================] - 1s 42us/sample - loss: 0.4013 - acc: 0.8110 - recall: 0.4323 - precision: 0.6615 - f1_metric: 0.4985 - val_loss: 0.4030 - val_acc: 0.8117 - val_recall: 0.3945 - val_precision: 0.6822 - val_f1_metric: 0.4742\n",
            "Epoch 79/100\n",
            "30769/30769 [==============================] - 1s 43us/sample - loss: 0.4015 - acc: 0.8103 - recall: 0.4262 - precision: 0.6615 - f1_metric: 0.4969 - val_loss: 0.4025 - val_acc: 0.8120 - val_recall: 0.4263 - val_precision: 0.6652 - val_f1_metric: 0.4944\n",
            "Epoch 80/100\n",
            "30769/30769 [==============================] - 1s 43us/sample - loss: 0.4013 - acc: 0.8108 - recall: 0.4348 - precision: 0.6595 - f1_metric: 0.5051 - val_loss: 0.4048 - val_acc: 0.8120 - val_recall: 0.3884 - val_precision: 0.6873 - val_f1_metric: 0.4715\n",
            "Epoch 81/100\n",
            "30769/30769 [==============================] - 1s 43us/sample - loss: 0.4015 - acc: 0.8114 - recall: 0.4314 - precision: 0.6636 - f1_metric: 0.5018 - val_loss: 0.4029 - val_acc: 0.8120 - val_recall: 0.4107 - val_precision: 0.6736 - val_f1_metric: 0.4829\n",
            "Epoch 82/100\n",
            "30769/30769 [==============================] - 1s 43us/sample - loss: 0.4014 - acc: 0.8105 - recall: 0.4315 - precision: 0.6600 - f1_metric: 0.5012 - val_loss: 0.4028 - val_acc: 0.8126 - val_recall: 0.4161 - val_precision: 0.6734 - val_f1_metric: 0.4955\n",
            "Epoch 83/100\n",
            "30769/30769 [==============================] - 1s 41us/sample - loss: 0.4014 - acc: 0.8108 - recall: 0.4293 - precision: 0.6623 - f1_metric: 0.4998 - val_loss: 0.4024 - val_acc: 0.8112 - val_recall: 0.4142 - val_precision: 0.6682 - val_f1_metric: 0.4829\n",
            "Epoch 84/100\n",
            "30769/30769 [==============================] - 1s 44us/sample - loss: 0.4014 - acc: 0.8108 - recall: 0.4329 - precision: 0.6607 - f1_metric: 0.5016 - val_loss: 0.4026 - val_acc: 0.8121 - val_recall: 0.4240 - val_precision: 0.6670 - val_f1_metric: 0.4960\n",
            "Epoch 85/100\n",
            "30769/30769 [==============================] - 1s 45us/sample - loss: 0.4013 - acc: 0.8108 - recall: 0.4284 - precision: 0.6629 - f1_metric: 0.4972 - val_loss: 0.4030 - val_acc: 0.8119 - val_recall: 0.4234 - val_precision: 0.6663 - val_f1_metric: 0.4937\n",
            "Epoch 86/100\n",
            "30769/30769 [==============================] - 1s 44us/sample - loss: 0.4014 - acc: 0.8108 - recall: 0.4335 - precision: 0.6602 - f1_metric: 0.5041 - val_loss: 0.4028 - val_acc: 0.8113 - val_recall: 0.4158 - val_precision: 0.6677 - val_f1_metric: 0.4903\n",
            "Epoch 87/100\n",
            "30769/30769 [==============================] - 1s 41us/sample - loss: 0.4015 - acc: 0.8108 - recall: 0.4315 - precision: 0.6609 - f1_metric: 0.4993 - val_loss: 0.4028 - val_acc: 0.8123 - val_recall: 0.4085 - val_precision: 0.6767 - val_f1_metric: 0.4835\n",
            "Epoch 88/100\n",
            "30769/30769 [==============================] - 1s 44us/sample - loss: 0.4015 - acc: 0.8110 - recall: 0.4324 - precision: 0.6617 - f1_metric: 0.5042 - val_loss: 0.4025 - val_acc: 0.8113 - val_recall: 0.4196 - val_precision: 0.6660 - val_f1_metric: 0.4867\n",
            "Epoch 89/100\n",
            "30769/30769 [==============================] - 1s 44us/sample - loss: 0.4013 - acc: 0.8111 - recall: 0.4314 - precision: 0.6625 - f1_metric: 0.4993 - val_loss: 0.4026 - val_acc: 0.8107 - val_recall: 0.4142 - val_precision: 0.6662 - val_f1_metric: 0.4907\n",
            "Epoch 90/100\n",
            "30769/30769 [==============================] - 1s 41us/sample - loss: 0.4015 - acc: 0.8107 - recall: 0.4327 - precision: 0.6602 - f1_metric: 0.5014 - val_loss: 0.4037 - val_acc: 0.8119 - val_recall: 0.3881 - val_precision: 0.6871 - val_f1_metric: 0.4754\n",
            "Epoch 91/100\n",
            "30769/30769 [==============================] - 1s 43us/sample - loss: 0.4014 - acc: 0.8105 - recall: 0.4288 - precision: 0.6613 - f1_metric: 0.4970 - val_loss: 0.4028 - val_acc: 0.8125 - val_recall: 0.4100 - val_precision: 0.6765 - val_f1_metric: 0.4883\n",
            "Epoch 92/100\n",
            "30769/30769 [==============================] - 1s 43us/sample - loss: 0.4011 - acc: 0.8110 - recall: 0.4291 - precision: 0.6631 - f1_metric: 0.5007 - val_loss: 0.4026 - val_acc: 0.8120 - val_recall: 0.4345 - val_precision: 0.6610 - val_f1_metric: 0.5034\n",
            "Epoch 93/100\n",
            "30769/30769 [==============================] - 1s 45us/sample - loss: 0.4014 - acc: 0.8111 - recall: 0.4338 - precision: 0.6614 - f1_metric: 0.5006 - val_loss: 0.4026 - val_acc: 0.8121 - val_recall: 0.4243 - val_precision: 0.6668 - val_f1_metric: 0.4947\n",
            "Epoch 94/100\n",
            "30769/30769 [==============================] - 1s 42us/sample - loss: 0.4014 - acc: 0.8102 - recall: 0.4300 - precision: 0.6595 - f1_metric: 0.4996 - val_loss: 0.4024 - val_acc: 0.8113 - val_recall: 0.4123 - val_precision: 0.6699 - val_f1_metric: 0.4883\n",
            "Epoch 95/100\n",
            "30769/30769 [==============================] - 1s 42us/sample - loss: 0.4013 - acc: 0.8107 - recall: 0.4282 - precision: 0.6624 - f1_metric: 0.4960 - val_loss: 0.4024 - val_acc: 0.8112 - val_recall: 0.4199 - val_precision: 0.6652 - val_f1_metric: 0.4877\n",
            "Epoch 96/100\n",
            "30769/30769 [==============================] - 1s 45us/sample - loss: 0.4014 - acc: 0.8109 - recall: 0.4304 - precision: 0.6623 - f1_metric: 0.5008 - val_loss: 0.4029 - val_acc: 0.8113 - val_recall: 0.4164 - val_precision: 0.6673 - val_f1_metric: 0.4857\n",
            "Epoch 97/100\n",
            "30769/30769 [==============================] - 1s 44us/sample - loss: 0.4012 - acc: 0.8110 - recall: 0.4348 - precision: 0.6603 - f1_metric: 0.5003 - val_loss: 0.4038 - val_acc: 0.8113 - val_recall: 0.3948 - val_precision: 0.6802 - val_f1_metric: 0.4752\n",
            "Epoch 98/100\n",
            "30769/30769 [==============================] - 1s 45us/sample - loss: 0.4013 - acc: 0.8111 - recall: 0.4301 - precision: 0.6633 - f1_metric: 0.4992 - val_loss: 0.4027 - val_acc: 0.8118 - val_recall: 0.4154 - val_precision: 0.6703 - val_f1_metric: 0.4902\n",
            "Epoch 99/100\n",
            "30769/30769 [==============================] - 1s 44us/sample - loss: 0.4013 - acc: 0.8109 - recall: 0.4311 - precision: 0.6618 - f1_metric: 0.4998 - val_loss: 0.4028 - val_acc: 0.8126 - val_recall: 0.4120 - val_precision: 0.6757 - val_f1_metric: 0.4895\n",
            "Epoch 100/100\n",
            "30769/30769 [==============================] - 1s 44us/sample - loss: 0.4013 - acc: 0.8113 - recall: 0.4276 - precision: 0.6654 - f1_metric: 0.4973 - val_loss: 0.4026 - val_acc: 0.8115 - val_recall: 0.4393 - val_precision: 0.6568 - val_f1_metric: 0.5026\n"
          ]
        }
      ]
    },
    {
      "cell_type": "code",
      "metadata": {
        "colab": {
          "base_uri": "https://localhost:8080/",
          "height": 206
        },
        "id": "IDtF6UjmegSO",
        "outputId": "620d3ed4-43dc-41ea-8d2d-ff4a8a69de4c"
      },
      "source": [
        "# import seaborn as sns\n",
        "\n",
        "# sns.scatterplot(x=\"x1\", y=\"x2\", hue='class', data=data)"
      ],
      "execution_count": 10,
      "outputs": [
        {
          "output_type": "error",
          "ename": "NameError",
          "evalue": "ignored",
          "traceback": [
            "\u001b[0;31m---------------------------------------------------------------------------\u001b[0m",
            "\u001b[0;31mNameError\u001b[0m                                 Traceback (most recent call last)",
            "\u001b[0;32m<ipython-input-10-432c939fdcf4>\u001b[0m in \u001b[0;36m<module>\u001b[0;34m()\u001b[0m\n\u001b[1;32m      1\u001b[0m \u001b[0;32mimport\u001b[0m \u001b[0mseaborn\u001b[0m \u001b[0;32mas\u001b[0m \u001b[0msns\u001b[0m\u001b[0;34m\u001b[0m\u001b[0;34m\u001b[0m\u001b[0m\n\u001b[1;32m      2\u001b[0m \u001b[0;34m\u001b[0m\u001b[0m\n\u001b[0;32m----> 3\u001b[0;31m \u001b[0msns\u001b[0m\u001b[0;34m.\u001b[0m\u001b[0mscatterplot\u001b[0m\u001b[0;34m(\u001b[0m\u001b[0mx\u001b[0m\u001b[0;34m=\u001b[0m\u001b[0;34m\"x1\"\u001b[0m\u001b[0;34m,\u001b[0m \u001b[0my\u001b[0m\u001b[0;34m=\u001b[0m\u001b[0;34m\"x2\"\u001b[0m\u001b[0;34m,\u001b[0m \u001b[0mhue\u001b[0m\u001b[0;34m=\u001b[0m\u001b[0;34m'class'\u001b[0m\u001b[0;34m,\u001b[0m \u001b[0mdata\u001b[0m\u001b[0;34m=\u001b[0m\u001b[0mdata\u001b[0m\u001b[0;34m)\u001b[0m\u001b[0;34m\u001b[0m\u001b[0;34m\u001b[0m\u001b[0m\n\u001b[0m",
            "\u001b[0;31mNameError\u001b[0m: name 'data' is not defined"
          ]
        }
      ]
    },
    {
      "cell_type": "code",
      "metadata": {
        "id": "9IBD7TKWmk2M"
      },
      "source": [
        "OPTIMIZER = tf.keras.optimizers.Adam(\n",
        "    learning_rate=0.001, name='Adam'\n",
        ")\n",
        "tuned_models = tf.keras.models.Sequential()\n",
        "tuned_models.add(tf.keras.layers.Dense(6, activation='relu', input_shape = (6, )))\n",
        "tuned_models.add(tf.keras.layers.Dense(3, activation='relu'))\n",
        "tuned_models.add(tf.keras.layers.Dense(3, activation='relu'))\n",
        "tuned_models.add(tf.keras.layers.Dense(1, activation='sigmoid'))\n",
        "tuned_models.compile(optimizer=OPTIMIZER, loss=\"binary_crossentropy\", metrics = ['accuracy', tf.keras.metrics.Recall(), tf.keras.metrics.Precision(), f1_metric])"
      ],
      "execution_count": 11,
      "outputs": []
    },
    {
      "cell_type": "code",
      "metadata": {
        "id": "93sUnBRKpOpL",
        "colab": {
          "base_uri": "https://localhost:8080/"
        },
        "outputId": "fdd008bc-048b-4693-906d-0459cc206ccc"
      },
      "source": [
        "tuned_models_history = tuned_models.fit(x_train, y_train, validation_split=0.3, epochs=100)"
      ],
      "execution_count": 12,
      "outputs": [
        {
          "output_type": "stream",
          "name": "stdout",
          "text": [
            "Train on 30769 samples, validate on 13188 samples\n",
            "Epoch 1/100\n",
            "30769/30769 [==============================] - 2s 50us/sample - loss: 0.4953 - acc: 0.7484 - recall_1: 0.0179 - precision_1: 0.2079 - f1_metric: 0.0117 - val_loss: 0.4277 - val_acc: 0.7614 - val_recall_1: 0.0000e+00 - val_precision_1: 0.0000e+00 - val_f1_metric: 0.0000e+00\n",
            "Epoch 2/100\n",
            "30769/30769 [==============================] - 1s 44us/sample - loss: 0.4246 - acc: 0.7871 - recall_1: 0.2402 - precision_1: 0.6506 - f1_metric: 0.2782 - val_loss: 0.4177 - val_acc: 0.8068 - val_recall_1: 0.4377 - val_precision_1: 0.6387 - val_f1_metric: 0.4964\n",
            "Epoch 3/100\n",
            "30769/30769 [==============================] - 1s 44us/sample - loss: 0.4173 - acc: 0.8057 - recall_1: 0.4459 - precision_1: 0.6346 - f1_metric: 0.4972 - val_loss: 0.4126 - val_acc: 0.8073 - val_recall_1: 0.4425 - val_precision_1: 0.6388 - val_f1_metric: 0.5008\n",
            "Epoch 4/100\n",
            "30769/30769 [==============================] - 1s 45us/sample - loss: 0.4131 - acc: 0.8075 - recall_1: 0.4590 - precision_1: 0.6361 - f1_metric: 0.5099 - val_loss: 0.4104 - val_acc: 0.8073 - val_recall_1: 0.4021 - val_precision_1: 0.6571 - val_f1_metric: 0.4757\n",
            "Epoch 5/100\n",
            "30769/30769 [==============================] - 1s 45us/sample - loss: 0.4106 - acc: 0.8076 - recall_1: 0.4468 - precision_1: 0.6414 - f1_metric: 0.5051 - val_loss: 0.4084 - val_acc: 0.8094 - val_recall_1: 0.4243 - val_precision_1: 0.6551 - val_f1_metric: 0.4941\n",
            "Epoch 6/100\n",
            "30769/30769 [==============================] - 1s 46us/sample - loss: 0.4089 - acc: 0.8087 - recall_1: 0.4514 - precision_1: 0.6437 - f1_metric: 0.5103 - val_loss: 0.4071 - val_acc: 0.8089 - val_recall_1: 0.4421 - val_precision_1: 0.6452 - val_f1_metric: 0.5011\n",
            "Epoch 7/100\n",
            "30769/30769 [==============================] - 1s 44us/sample - loss: 0.4079 - acc: 0.8085 - recall_1: 0.4543 - precision_1: 0.6418 - f1_metric: 0.5108 - val_loss: 0.4078 - val_acc: 0.8085 - val_recall_1: 0.3897 - val_precision_1: 0.6692 - val_f1_metric: 0.4734\n",
            "Epoch 8/100\n",
            "30769/30769 [==============================] - 1s 43us/sample - loss: 0.4071 - acc: 0.8081 - recall_1: 0.4440 - precision_1: 0.6443 - f1_metric: 0.5051 - val_loss: 0.4064 - val_acc: 0.8096 - val_recall_1: 0.4199 - val_precision_1: 0.6582 - val_f1_metric: 0.4886\n",
            "Epoch 9/100\n",
            "30769/30769 [==============================] - 1s 44us/sample - loss: 0.4064 - acc: 0.8072 - recall_1: 0.4409 - precision_1: 0.6423 - f1_metric: 0.5063 - val_loss: 0.4057 - val_acc: 0.8088 - val_recall_1: 0.4253 - val_precision_1: 0.6524 - val_f1_metric: 0.4888\n",
            "Epoch 10/100\n",
            "30769/30769 [==============================] - 1s 45us/sample - loss: 0.4060 - acc: 0.8087 - recall_1: 0.4430 - precision_1: 0.6474 - f1_metric: 0.5052 - val_loss: 0.4054 - val_acc: 0.8094 - val_recall_1: 0.4272 - val_precision_1: 0.6537 - val_f1_metric: 0.4920\n",
            "Epoch 11/100\n",
            "30769/30769 [==============================] - 1s 46us/sample - loss: 0.4056 - acc: 0.8087 - recall_1: 0.4437 - precision_1: 0.6470 - f1_metric: 0.5041 - val_loss: 0.4052 - val_acc: 0.8088 - val_recall_1: 0.4202 - val_precision_1: 0.6548 - val_f1_metric: 0.4969\n",
            "Epoch 12/100\n",
            "30769/30769 [==============================] - 1s 48us/sample - loss: 0.4054 - acc: 0.8092 - recall_1: 0.4394 - precision_1: 0.6508 - f1_metric: 0.5016 - val_loss: 0.4053 - val_acc: 0.8087 - val_recall_1: 0.4298 - val_precision_1: 0.6497 - val_f1_metric: 0.4970\n",
            "Epoch 13/100\n",
            "30769/30769 [==============================] - 1s 48us/sample - loss: 0.4049 - acc: 0.8093 - recall_1: 0.4468 - precision_1: 0.6478 - f1_metric: 0.5069 - val_loss: 0.4055 - val_acc: 0.8096 - val_recall_1: 0.4065 - val_precision_1: 0.6651 - val_f1_metric: 0.4782\n",
            "Epoch 14/100\n",
            "30769/30769 [==============================] - 1s 45us/sample - loss: 0.4047 - acc: 0.8090 - recall_1: 0.4417 - precision_1: 0.6490 - f1_metric: 0.5030 - val_loss: 0.4048 - val_acc: 0.8098 - val_recall_1: 0.4132 - val_precision_1: 0.6626 - val_f1_metric: 0.4866\n",
            "Epoch 15/100\n",
            "30769/30769 [==============================] - 1s 45us/sample - loss: 0.4043 - acc: 0.8096 - recall_1: 0.4384 - precision_1: 0.6531 - f1_metric: 0.5019 - val_loss: 0.4049 - val_acc: 0.8110 - val_recall_1: 0.4259 - val_precision_1: 0.6611 - val_f1_metric: 0.4937\n",
            "Epoch 16/100\n",
            "30769/30769 [==============================] - 1s 47us/sample - loss: 0.4041 - acc: 0.8108 - recall_1: 0.4440 - precision_1: 0.6554 - f1_metric: 0.5055 - val_loss: 0.4042 - val_acc: 0.8118 - val_recall_1: 0.4358 - val_precision_1: 0.6598 - val_f1_metric: 0.5045\n",
            "Epoch 17/100\n",
            "30769/30769 [==============================] - 1s 45us/sample - loss: 0.4039 - acc: 0.8116 - recall_1: 0.4447 - precision_1: 0.6581 - f1_metric: 0.5109 - val_loss: 0.4039 - val_acc: 0.8113 - val_recall_1: 0.4345 - val_precision_1: 0.6585 - val_f1_metric: 0.4994\n",
            "Epoch 18/100\n",
            "30769/30769 [==============================] - 1s 45us/sample - loss: 0.4034 - acc: 0.8110 - recall_1: 0.4415 - precision_1: 0.6572 - f1_metric: 0.5082 - val_loss: 0.4041 - val_acc: 0.8112 - val_recall_1: 0.4272 - val_precision_1: 0.6614 - val_f1_metric: 0.5002\n",
            "Epoch 19/100\n",
            "30769/30769 [==============================] - 1s 47us/sample - loss: 0.4033 - acc: 0.8107 - recall_1: 0.4452 - precision_1: 0.6543 - f1_metric: 0.5095 - val_loss: 0.4037 - val_acc: 0.8114 - val_recall_1: 0.4183 - val_precision_1: 0.6670 - val_f1_metric: 0.4903\n",
            "Epoch 20/100\n",
            "30769/30769 [==============================] - 1s 46us/sample - loss: 0.4030 - acc: 0.8108 - recall_1: 0.4405 - precision_1: 0.6568 - f1_metric: 0.5055 - val_loss: 0.4038 - val_acc: 0.8091 - val_recall_1: 0.3992 - val_precision_1: 0.6667 - val_f1_metric: 0.4752\n",
            "Epoch 21/100\n",
            "30769/30769 [==============================] - 1s 44us/sample - loss: 0.4027 - acc: 0.8115 - recall_1: 0.4372 - precision_1: 0.6614 - f1_metric: 0.5029 - val_loss: 0.4034 - val_acc: 0.8116 - val_recall_1: 0.4460 - val_precision_1: 0.6544 - val_f1_metric: 0.5061\n",
            "Epoch 22/100\n",
            "30769/30769 [==============================] - 1s 45us/sample - loss: 0.4025 - acc: 0.8116 - recall_1: 0.4390 - precision_1: 0.6607 - f1_metric: 0.5052 - val_loss: 0.4030 - val_acc: 0.8110 - val_recall_1: 0.4374 - val_precision_1: 0.6559 - val_f1_metric: 0.5063\n",
            "Epoch 23/100\n",
            "30769/30769 [==============================] - 1s 47us/sample - loss: 0.4020 - acc: 0.8110 - recall_1: 0.4345 - precision_1: 0.6605 - f1_metric: 0.5005 - val_loss: 0.4041 - val_acc: 0.8109 - val_recall_1: 0.4555 - val_precision_1: 0.6472 - val_f1_metric: 0.5168\n",
            "Epoch 24/100\n",
            "30769/30769 [==============================] - 1s 47us/sample - loss: 0.4021 - acc: 0.8112 - recall_1: 0.4372 - precision_1: 0.6599 - f1_metric: 0.4985 - val_loss: 0.4041 - val_acc: 0.8110 - val_recall_1: 0.3980 - val_precision_1: 0.6768 - val_f1_metric: 0.4795\n",
            "Epoch 25/100\n",
            "30769/30769 [==============================] - 1s 46us/sample - loss: 0.4021 - acc: 0.8103 - recall_1: 0.4338 - precision_1: 0.6578 - f1_metric: 0.4984 - val_loss: 0.4027 - val_acc: 0.8102 - val_recall_1: 0.4161 - val_precision_1: 0.6628 - val_f1_metric: 0.4919\n",
            "Epoch 26/100\n",
            "30769/30769 [==============================] - 1s 45us/sample - loss: 0.4016 - acc: 0.8116 - recall_1: 0.4346 - precision_1: 0.6628 - f1_metric: 0.5044 - val_loss: 0.4026 - val_acc: 0.8108 - val_recall_1: 0.4072 - val_precision_1: 0.6703 - val_f1_metric: 0.4808\n",
            "Epoch 27/100\n",
            "30769/30769 [==============================] - 1s 48us/sample - loss: 0.4016 - acc: 0.8108 - recall_1: 0.4273 - precision_1: 0.6630 - f1_metric: 0.4974 - val_loss: 0.4035 - val_acc: 0.8104 - val_recall_1: 0.4463 - val_precision_1: 0.6494 - val_f1_metric: 0.5098\n",
            "Epoch 28/100\n",
            "30769/30769 [==============================] - 1s 46us/sample - loss: 0.4014 - acc: 0.8105 - recall_1: 0.4312 - precision_1: 0.6600 - f1_metric: 0.4969 - val_loss: 0.4029 - val_acc: 0.8113 - val_recall_1: 0.4139 - val_precision_1: 0.6691 - val_f1_metric: 0.4861\n",
            "Epoch 29/100\n",
            "30769/30769 [==============================] - 1s 48us/sample - loss: 0.4013 - acc: 0.8113 - recall_1: 0.4282 - precision_1: 0.6649 - f1_metric: 0.5022 - val_loss: 0.4026 - val_acc: 0.8104 - val_recall_1: 0.4256 - val_precision_1: 0.6586 - val_f1_metric: 0.4936\n",
            "Epoch 30/100\n",
            "30769/30769 [==============================] - 1s 47us/sample - loss: 0.4014 - acc: 0.8116 - recall_1: 0.4316 - precision_1: 0.6646 - f1_metric: 0.5016 - val_loss: 0.4026 - val_acc: 0.8105 - val_recall_1: 0.4107 - val_precision_1: 0.6670 - val_f1_metric: 0.4797\n",
            "Epoch 31/100\n",
            "30769/30769 [==============================] - 2s 49us/sample - loss: 0.4013 - acc: 0.8111 - recall_1: 0.4282 - precision_1: 0.6642 - f1_metric: 0.4976 - val_loss: 0.4030 - val_acc: 0.8111 - val_recall_1: 0.3986 - val_precision_1: 0.6767 - val_f1_metric: 0.4809\n",
            "Epoch 32/100\n",
            "30769/30769 [==============================] - 2s 51us/sample - loss: 0.4013 - acc: 0.8111 - recall_1: 0.4263 - precision_1: 0.6652 - f1_metric: 0.4994 - val_loss: 0.4026 - val_acc: 0.8110 - val_recall_1: 0.3986 - val_precision_1: 0.6764 - val_f1_metric: 0.4790\n",
            "Epoch 33/100\n",
            "30769/30769 [==============================] - 2s 49us/sample - loss: 0.4012 - acc: 0.8107 - recall_1: 0.4254 - precision_1: 0.6637 - f1_metric: 0.4950 - val_loss: 0.4041 - val_acc: 0.8103 - val_recall_1: 0.3776 - val_precision_1: 0.6859 - val_f1_metric: 0.4584\n",
            "Epoch 34/100\n",
            "30769/30769 [==============================] - 1s 46us/sample - loss: 0.4010 - acc: 0.8112 - recall_1: 0.4240 - precision_1: 0.6668 - f1_metric: 0.4956 - val_loss: 0.4039 - val_acc: 0.8113 - val_recall_1: 0.4167 - val_precision_1: 0.6672 - val_f1_metric: 0.4866\n",
            "Epoch 35/100\n",
            "30769/30769 [==============================] - 1s 48us/sample - loss: 0.4010 - acc: 0.8108 - recall_1: 0.4273 - precision_1: 0.6633 - f1_metric: 0.4975 - val_loss: 0.4027 - val_acc: 0.8120 - val_recall_1: 0.4259 - val_precision_1: 0.6657 - val_f1_metric: 0.4982\n",
            "Epoch 36/100\n",
            "30769/30769 [==============================] - 2s 50us/sample - loss: 0.4011 - acc: 0.8106 - recall_1: 0.4231 - precision_1: 0.6645 - f1_metric: 0.4929 - val_loss: 0.4032 - val_acc: 0.8108 - val_recall_1: 0.3951 - val_precision_1: 0.6774 - val_f1_metric: 0.4715\n",
            "Epoch 37/100\n",
            "30769/30769 [==============================] - 2s 50us/sample - loss: 0.4008 - acc: 0.8115 - recall_1: 0.4253 - precision_1: 0.6674 - f1_metric: 0.4954 - val_loss: 0.4031 - val_acc: 0.8104 - val_recall_1: 0.3942 - val_precision_1: 0.6757 - val_f1_metric: 0.4786\n",
            "Epoch 38/100\n",
            "30769/30769 [==============================] - 1s 46us/sample - loss: 0.4008 - acc: 0.8110 - recall_1: 0.4242 - precision_1: 0.6656 - f1_metric: 0.4941 - val_loss: 0.4027 - val_acc: 0.8110 - val_recall_1: 0.4180 - val_precision_1: 0.6651 - val_f1_metric: 0.4892\n",
            "Epoch 39/100\n",
            "30769/30769 [==============================] - 1s 48us/sample - loss: 0.4009 - acc: 0.8121 - recall_1: 0.4265 - precision_1: 0.6691 - f1_metric: 0.4975 - val_loss: 0.4035 - val_acc: 0.8108 - val_recall_1: 0.3897 - val_precision_1: 0.6807 - val_f1_metric: 0.4733\n",
            "Epoch 40/100\n",
            "30769/30769 [==============================] - 1s 47us/sample - loss: 0.4008 - acc: 0.8110 - recall_1: 0.4269 - precision_1: 0.6643 - f1_metric: 0.4990 - val_loss: 0.4031 - val_acc: 0.8121 - val_recall_1: 0.3942 - val_precision_1: 0.6843 - val_f1_metric: 0.4730\n",
            "Epoch 41/100\n",
            "30769/30769 [==============================] - 1s 46us/sample - loss: 0.4007 - acc: 0.8112 - recall_1: 0.4247 - precision_1: 0.6662 - f1_metric: 0.4963 - val_loss: 0.4029 - val_acc: 0.8105 - val_recall_1: 0.4285 - val_precision_1: 0.6579 - val_f1_metric: 0.4883\n",
            "Epoch 42/100\n",
            "30769/30769 [==============================] - 1s 46us/sample - loss: 0.4007 - acc: 0.8117 - recall_1: 0.4257 - precision_1: 0.6681 - f1_metric: 0.4971 - val_loss: 0.4028 - val_acc: 0.8116 - val_recall_1: 0.4148 - val_precision_1: 0.6699 - val_f1_metric: 0.4908\n",
            "Epoch 43/100\n",
            "30769/30769 [==============================] - 1s 48us/sample - loss: 0.4008 - acc: 0.8111 - recall_1: 0.4266 - precision_1: 0.6650 - f1_metric: 0.4964 - val_loss: 0.4032 - val_acc: 0.8101 - val_recall_1: 0.3948 - val_precision_1: 0.6743 - val_f1_metric: 0.4705\n",
            "Epoch 44/100\n",
            "30769/30769 [==============================] - 2s 51us/sample - loss: 0.4008 - acc: 0.8112 - recall_1: 0.4272 - precision_1: 0.6649 - f1_metric: 0.4969 - val_loss: 0.4028 - val_acc: 0.8113 - val_recall_1: 0.4228 - val_precision_1: 0.6643 - val_f1_metric: 0.4961\n",
            "Epoch 45/100\n",
            "30769/30769 [==============================] - 1s 46us/sample - loss: 0.4007 - acc: 0.8119 - recall_1: 0.4254 - precision_1: 0.6691 - f1_metric: 0.4986 - val_loss: 0.4025 - val_acc: 0.8113 - val_recall_1: 0.4126 - val_precision_1: 0.6698 - val_f1_metric: 0.4904\n",
            "Epoch 46/100\n",
            "30769/30769 [==============================] - 1s 47us/sample - loss: 0.4006 - acc: 0.8113 - recall_1: 0.4267 - precision_1: 0.6655 - f1_metric: 0.4973 - val_loss: 0.4033 - val_acc: 0.8110 - val_recall_1: 0.3986 - val_precision_1: 0.6764 - val_f1_metric: 0.4788\n",
            "Epoch 47/100\n",
            "30769/30769 [==============================] - 1s 48us/sample - loss: 0.4008 - acc: 0.8114 - recall_1: 0.4263 - precision_1: 0.6665 - f1_metric: 0.5016 - val_loss: 0.4031 - val_acc: 0.8116 - val_recall_1: 0.3932 - val_precision_1: 0.6823 - val_f1_metric: 0.4755\n",
            "Epoch 48/100\n",
            "30769/30769 [==============================] - 1s 45us/sample - loss: 0.4006 - acc: 0.8117 - recall_1: 0.4250 - precision_1: 0.6683 - f1_metric: 0.4961 - val_loss: 0.4036 - val_acc: 0.8096 - val_recall_1: 0.4488 - val_precision_1: 0.6450 - val_f1_metric: 0.5048\n",
            "Epoch 49/100\n",
            "30769/30769 [==============================] - 1s 46us/sample - loss: 0.4006 - acc: 0.8117 - recall_1: 0.4320 - precision_1: 0.6645 - f1_metric: 0.4986 - val_loss: 0.4031 - val_acc: 0.8110 - val_recall_1: 0.3916 - val_precision_1: 0.6803 - val_f1_metric: 0.4635\n",
            "Epoch 50/100\n",
            "30769/30769 [==============================] - 1s 47us/sample - loss: 0.4006 - acc: 0.8119 - recall_1: 0.4234 - precision_1: 0.6699 - f1_metric: 0.4927 - val_loss: 0.4025 - val_acc: 0.8116 - val_recall_1: 0.4050 - val_precision_1: 0.6751 - val_f1_metric: 0.4877\n",
            "Epoch 51/100\n",
            "30769/30769 [==============================] - 1s 48us/sample - loss: 0.4006 - acc: 0.8115 - recall_1: 0.4280 - precision_1: 0.6660 - f1_metric: 0.4971 - val_loss: 0.4030 - val_acc: 0.8110 - val_recall_1: 0.3938 - val_precision_1: 0.6789 - val_f1_metric: 0.4746\n",
            "Epoch 52/100\n",
            "30769/30769 [==============================] - 1s 46us/sample - loss: 0.4006 - acc: 0.8116 - recall_1: 0.4265 - precision_1: 0.6669 - f1_metric: 0.4958 - val_loss: 0.4033 - val_acc: 0.8116 - val_recall_1: 0.3935 - val_precision_1: 0.6825 - val_f1_metric: 0.4768\n",
            "Epoch 53/100\n",
            "30769/30769 [==============================] - 1s 48us/sample - loss: 0.4005 - acc: 0.8116 - recall_1: 0.4261 - precision_1: 0.6674 - f1_metric: 0.4981 - val_loss: 0.4025 - val_acc: 0.8110 - val_recall_1: 0.4199 - val_precision_1: 0.6642 - val_f1_metric: 0.4874\n",
            "Epoch 54/100\n",
            "30769/30769 [==============================] - 1s 46us/sample - loss: 0.4005 - acc: 0.8118 - recall_1: 0.4278 - precision_1: 0.6674 - f1_metric: 0.4980 - val_loss: 0.4025 - val_acc: 0.8107 - val_recall_1: 0.4100 - val_precision_1: 0.6684 - val_f1_metric: 0.4820\n",
            "Epoch 55/100\n",
            "30769/30769 [==============================] - 1s 46us/sample - loss: 0.4003 - acc: 0.8120 - recall_1: 0.4278 - precision_1: 0.6681 - f1_metric: 0.4963 - val_loss: 0.4037 - val_acc: 0.8087 - val_recall_1: 0.4421 - val_precision_1: 0.6443 - val_f1_metric: 0.4994\n",
            "Epoch 56/100\n",
            "30769/30769 [==============================] - 1s 48us/sample - loss: 0.4005 - acc: 0.8114 - recall_1: 0.4300 - precision_1: 0.6644 - f1_metric: 0.5022 - val_loss: 0.4025 - val_acc: 0.8109 - val_recall_1: 0.4205 - val_precision_1: 0.6635 - val_f1_metric: 0.4858\n",
            "Epoch 57/100\n",
            "30769/30769 [==============================] - 1s 46us/sample - loss: 0.4004 - acc: 0.8113 - recall_1: 0.4292 - precision_1: 0.6644 - f1_metric: 0.5007 - val_loss: 0.4029 - val_acc: 0.8114 - val_recall_1: 0.4228 - val_precision_1: 0.6647 - val_f1_metric: 0.4974\n",
            "Epoch 58/100\n",
            "30769/30769 [==============================] - 1s 48us/sample - loss: 0.4004 - acc: 0.8109 - recall_1: 0.4234 - precision_1: 0.6657 - f1_metric: 0.4944 - val_loss: 0.4025 - val_acc: 0.8110 - val_recall_1: 0.4263 - val_precision_1: 0.6612 - val_f1_metric: 0.4935\n",
            "Epoch 59/100\n",
            "30769/30769 [==============================] - 1s 46us/sample - loss: 0.4004 - acc: 0.8116 - recall_1: 0.4323 - precision_1: 0.6642 - f1_metric: 0.5004 - val_loss: 0.4026 - val_acc: 0.8114 - val_recall_1: 0.4088 - val_precision_1: 0.6722 - val_f1_metric: 0.4797\n",
            "Epoch 60/100\n",
            "30769/30769 [==============================] - 1s 48us/sample - loss: 0.4003 - acc: 0.8110 - recall_1: 0.4292 - precision_1: 0.6632 - f1_metric: 0.4984 - val_loss: 0.4028 - val_acc: 0.8115 - val_recall_1: 0.4170 - val_precision_1: 0.6680 - val_f1_metric: 0.4903\n",
            "Epoch 61/100\n",
            "30769/30769 [==============================] - 1s 46us/sample - loss: 0.4004 - acc: 0.8111 - recall_1: 0.4281 - precision_1: 0.6643 - f1_metric: 0.4996 - val_loss: 0.4027 - val_acc: 0.8110 - val_recall_1: 0.4193 - val_precision_1: 0.6648 - val_f1_metric: 0.4913\n",
            "Epoch 62/100\n",
            "30769/30769 [==============================] - 1s 47us/sample - loss: 0.4002 - acc: 0.8112 - recall_1: 0.4278 - precision_1: 0.6646 - f1_metric: 0.4961 - val_loss: 0.4029 - val_acc: 0.8107 - val_recall_1: 0.4107 - val_precision_1: 0.6680 - val_f1_metric: 0.4826\n",
            "Epoch 63/100\n",
            "30769/30769 [==============================] - 1s 47us/sample - loss: 0.4003 - acc: 0.8115 - recall_1: 0.4266 - precision_1: 0.6665 - f1_metric: 0.4953 - val_loss: 0.4028 - val_acc: 0.8106 - val_recall_1: 0.4371 - val_precision_1: 0.6541 - val_f1_metric: 0.4990\n",
            "Epoch 64/100\n",
            "30769/30769 [==============================] - 1s 47us/sample - loss: 0.4002 - acc: 0.8115 - recall_1: 0.4299 - precision_1: 0.6648 - f1_metric: 0.5004 - val_loss: 0.4027 - val_acc: 0.8113 - val_recall_1: 0.4069 - val_precision_1: 0.6730 - val_f1_metric: 0.4795\n",
            "Epoch 65/100\n",
            "30769/30769 [==============================] - 1s 45us/sample - loss: 0.4003 - acc: 0.8109 - recall_1: 0.4258 - precision_1: 0.6643 - f1_metric: 0.4971 - val_loss: 0.4029 - val_acc: 0.8105 - val_recall_1: 0.4336 - val_precision_1: 0.6555 - val_f1_metric: 0.5000\n",
            "Epoch 66/100\n",
            "30769/30769 [==============================] - 1s 46us/sample - loss: 0.4002 - acc: 0.8108 - recall_1: 0.4280 - precision_1: 0.6628 - f1_metric: 0.4962 - val_loss: 0.4033 - val_acc: 0.8113 - val_recall_1: 0.3907 - val_precision_1: 0.6828 - val_f1_metric: 0.4766\n",
            "Epoch 67/100\n",
            "30769/30769 [==============================] - 1s 48us/sample - loss: 0.4000 - acc: 0.8108 - recall_1: 0.4261 - precision_1: 0.6636 - f1_metric: 0.4946 - val_loss: 0.4026 - val_acc: 0.8121 - val_recall_1: 0.4339 - val_precision_1: 0.6620 - val_f1_metric: 0.4969\n",
            "Epoch 68/100\n",
            "30769/30769 [==============================] - 1s 47us/sample - loss: 0.4000 - acc: 0.8104 - recall_1: 0.4263 - precision_1: 0.6621 - f1_metric: 0.4976 - val_loss: 0.4030 - val_acc: 0.8099 - val_recall_1: 0.4336 - val_precision_1: 0.6529 - val_f1_metric: 0.5020\n",
            "Epoch 69/100\n",
            "30769/30769 [==============================] - 1s 48us/sample - loss: 0.4001 - acc: 0.8112 - recall_1: 0.4305 - precision_1: 0.6632 - f1_metric: 0.5007 - val_loss: 0.4029 - val_acc: 0.8116 - val_recall_1: 0.4132 - val_precision_1: 0.6704 - val_f1_metric: 0.4910\n",
            "Epoch 70/100\n",
            "30769/30769 [==============================] - 1s 48us/sample - loss: 0.4001 - acc: 0.8112 - recall_1: 0.4303 - precision_1: 0.6633 - f1_metric: 0.4968 - val_loss: 0.4029 - val_acc: 0.8120 - val_recall_1: 0.4059 - val_precision_1: 0.6764 - val_f1_metric: 0.4845\n",
            "Epoch 71/100\n",
            "30769/30769 [==============================] - 1s 48us/sample - loss: 0.4000 - acc: 0.8113 - recall_1: 0.4296 - precision_1: 0.6644 - f1_metric: 0.4981 - val_loss: 0.4030 - val_acc: 0.8116 - val_recall_1: 0.4164 - val_precision_1: 0.6691 - val_f1_metric: 0.4915\n",
            "Epoch 72/100\n",
            "30769/30769 [==============================] - 2s 50us/sample - loss: 0.4001 - acc: 0.8108 - recall_1: 0.4301 - precision_1: 0.6617 - f1_metric: 0.4970 - val_loss: 0.4041 - val_acc: 0.8118 - val_recall_1: 0.3840 - val_precision_1: 0.6895 - val_f1_metric: 0.4713\n",
            "Epoch 73/100\n",
            "30769/30769 [==============================] - 1s 46us/sample - loss: 0.4001 - acc: 0.8115 - recall_1: 0.4300 - precision_1: 0.6650 - f1_metric: 0.5003 - val_loss: 0.4032 - val_acc: 0.8124 - val_recall_1: 0.4323 - val_precision_1: 0.6641 - val_f1_metric: 0.4984\n",
            "Epoch 74/100\n",
            "30769/30769 [==============================] - 1s 46us/sample - loss: 0.4000 - acc: 0.8117 - recall_1: 0.4277 - precision_1: 0.6669 - f1_metric: 0.5001 - val_loss: 0.4028 - val_acc: 0.8119 - val_recall_1: 0.4380 - val_precision_1: 0.6590 - val_f1_metric: 0.4973\n",
            "Epoch 75/100\n",
            "30769/30769 [==============================] - 1s 48us/sample - loss: 0.4001 - acc: 0.8108 - recall_1: 0.4310 - precision_1: 0.6612 - f1_metric: 0.5002 - val_loss: 0.4033 - val_acc: 0.8118 - val_recall_1: 0.3948 - val_precision_1: 0.6824 - val_f1_metric: 0.4728\n",
            "Epoch 76/100\n",
            "30769/30769 [==============================] - 1s 46us/sample - loss: 0.4000 - acc: 0.8112 - recall_1: 0.4282 - precision_1: 0.6644 - f1_metric: 0.4987 - val_loss: 0.4033 - val_acc: 0.8117 - val_recall_1: 0.4011 - val_precision_1: 0.6781 - val_f1_metric: 0.4802\n",
            "Epoch 77/100\n",
            "30769/30769 [==============================] - 1s 48us/sample - loss: 0.3999 - acc: 0.8115 - recall_1: 0.4276 - precision_1: 0.6661 - f1_metric: 0.5013 - val_loss: 0.4033 - val_acc: 0.8120 - val_recall_1: 0.4352 - val_precision_1: 0.6607 - val_f1_metric: 0.4993\n",
            "Epoch 78/100\n",
            "30769/30769 [==============================] - 1s 47us/sample - loss: 0.4001 - acc: 0.8116 - recall_1: 0.4278 - precision_1: 0.6665 - f1_metric: 0.4967 - val_loss: 0.4031 - val_acc: 0.8117 - val_recall_1: 0.4288 - val_precision_1: 0.6629 - val_f1_metric: 0.5011\n",
            "Epoch 79/100\n",
            "30769/30769 [==============================] - 1s 46us/sample - loss: 0.3999 - acc: 0.8109 - recall_1: 0.4310 - precision_1: 0.6620 - f1_metric: 0.4997 - val_loss: 0.4041 - val_acc: 0.8121 - val_recall_1: 0.3935 - val_precision_1: 0.6847 - val_f1_metric: 0.4798\n",
            "Epoch 80/100\n",
            "30769/30769 [==============================] - 1s 47us/sample - loss: 0.3998 - acc: 0.8109 - recall_1: 0.4269 - precision_1: 0.6641 - f1_metric: 0.4977 - val_loss: 0.4034 - val_acc: 0.8114 - val_recall_1: 0.3954 - val_precision_1: 0.6802 - val_f1_metric: 0.4778\n",
            "Epoch 81/100\n",
            "30769/30769 [==============================] - 1s 46us/sample - loss: 0.3998 - acc: 0.8112 - recall_1: 0.4295 - precision_1: 0.6637 - f1_metric: 0.4978 - val_loss: 0.4034 - val_acc: 0.8115 - val_recall_1: 0.4253 - val_precision_1: 0.6637 - val_f1_metric: 0.4976\n",
            "Epoch 82/100\n",
            "30769/30769 [==============================] - 1s 48us/sample - loss: 0.3999 - acc: 0.8107 - recall_1: 0.4301 - precision_1: 0.6615 - f1_metric: 0.5015 - val_loss: 0.4035 - val_acc: 0.8117 - val_recall_1: 0.4081 - val_precision_1: 0.6740 - val_f1_metric: 0.4897\n",
            "Epoch 83/100\n",
            "30769/30769 [==============================] - 1s 47us/sample - loss: 0.3999 - acc: 0.8102 - recall_1: 0.4266 - precision_1: 0.6611 - f1_metric: 0.4989 - val_loss: 0.4027 - val_acc: 0.8121 - val_recall_1: 0.4278 - val_precision_1: 0.6650 - val_f1_metric: 0.4953\n",
            "Epoch 84/100\n",
            "30769/30769 [==============================] - 2s 49us/sample - loss: 0.3998 - acc: 0.8115 - recall_1: 0.4257 - precision_1: 0.6670 - f1_metric: 0.4981 - val_loss: 0.4029 - val_acc: 0.8119 - val_recall_1: 0.4247 - val_precision_1: 0.6657 - val_f1_metric: 0.4971\n",
            "Epoch 85/100\n",
            "30769/30769 [==============================] - 2s 50us/sample - loss: 0.3998 - acc: 0.8117 - recall_1: 0.4331 - precision_1: 0.6641 - f1_metric: 0.5019 - val_loss: 0.4033 - val_acc: 0.8117 - val_recall_1: 0.4237 - val_precision_1: 0.6655 - val_f1_metric: 0.4940\n",
            "Epoch 86/100\n",
            "30769/30769 [==============================] - 2s 49us/sample - loss: 0.3997 - acc: 0.8105 - recall_1: 0.4261 - precision_1: 0.6624 - f1_metric: 0.4978 - val_loss: 0.4033 - val_acc: 0.8110 - val_recall_1: 0.4332 - val_precision_1: 0.6575 - val_f1_metric: 0.5049\n",
            "Epoch 87/100\n",
            "30769/30769 [==============================] - 1s 49us/sample - loss: 0.3998 - acc: 0.8108 - recall_1: 0.4303 - precision_1: 0.6619 - f1_metric: 0.4978 - val_loss: 0.4030 - val_acc: 0.8116 - val_recall_1: 0.4040 - val_precision_1: 0.6761 - val_f1_metric: 0.4895\n",
            "Epoch 88/100\n",
            "30769/30769 [==============================] - 1s 46us/sample - loss: 0.3996 - acc: 0.8110 - recall_1: 0.4273 - precision_1: 0.6641 - f1_metric: 0.4973 - val_loss: 0.4032 - val_acc: 0.8113 - val_recall_1: 0.4329 - val_precision_1: 0.6589 - val_f1_metric: 0.5069\n",
            "Epoch 89/100\n",
            "30769/30769 [==============================] - 1s 45us/sample - loss: 0.3999 - acc: 0.8112 - recall_1: 0.4312 - precision_1: 0.6630 - f1_metric: 0.4999 - val_loss: 0.4030 - val_acc: 0.8113 - val_recall_1: 0.4209 - val_precision_1: 0.6650 - val_f1_metric: 0.4988\n",
            "Epoch 90/100\n",
            "30769/30769 [==============================] - 1s 47us/sample - loss: 0.3997 - acc: 0.8108 - recall_1: 0.4301 - precision_1: 0.6619 - f1_metric: 0.4979 - val_loss: 0.4033 - val_acc: 0.8118 - val_recall_1: 0.4129 - val_precision_1: 0.6717 - val_f1_metric: 0.4905\n",
            "Epoch 91/100\n",
            "30769/30769 [==============================] - 1s 48us/sample - loss: 0.3996 - acc: 0.8101 - recall_1: 0.4284 - precision_1: 0.6597 - f1_metric: 0.4981 - val_loss: 0.4032 - val_acc: 0.8113 - val_recall_1: 0.4126 - val_precision_1: 0.6694 - val_f1_metric: 0.4889\n",
            "Epoch 92/100\n",
            "30769/30769 [==============================] - 1s 48us/sample - loss: 0.3997 - acc: 0.8110 - recall_1: 0.4280 - precision_1: 0.6638 - f1_metric: 0.4956 - val_loss: 0.4028 - val_acc: 0.8120 - val_recall_1: 0.4307 - val_precision_1: 0.6629 - val_f1_metric: 0.5037\n",
            "Epoch 93/100\n",
            "30769/30769 [==============================] - 1s 46us/sample - loss: 0.3998 - acc: 0.8109 - recall_1: 0.4318 - precision_1: 0.6613 - f1_metric: 0.4951 - val_loss: 0.4030 - val_acc: 0.8116 - val_recall_1: 0.4298 - val_precision_1: 0.6621 - val_f1_metric: 0.4979\n",
            "Epoch 94/100\n",
            "30769/30769 [==============================] - 1s 47us/sample - loss: 0.3997 - acc: 0.8112 - recall_1: 0.4285 - precision_1: 0.6644 - f1_metric: 0.4942 - val_loss: 0.4032 - val_acc: 0.8111 - val_recall_1: 0.4177 - val_precision_1: 0.6660 - val_f1_metric: 0.4894\n",
            "Epoch 95/100\n",
            "30769/30769 [==============================] - 1s 46us/sample - loss: 0.3994 - acc: 0.8110 - recall_1: 0.4315 - precision_1: 0.6622 - f1_metric: 0.5014 - val_loss: 0.4033 - val_acc: 0.8114 - val_recall_1: 0.4495 - val_precision_1: 0.6519 - val_f1_metric: 0.5083\n",
            "Epoch 96/100\n",
            "30769/30769 [==============================] - 1s 47us/sample - loss: 0.3995 - acc: 0.8109 - recall_1: 0.4329 - precision_1: 0.6611 - f1_metric: 0.5036 - val_loss: 0.4059 - val_acc: 0.8112 - val_recall_1: 0.3805 - val_precision_1: 0.6887 - val_f1_metric: 0.4647\n",
            "Epoch 97/100\n",
            "30769/30769 [==============================] - 1s 46us/sample - loss: 0.3998 - acc: 0.8111 - recall_1: 0.4314 - precision_1: 0.6625 - f1_metric: 0.4989 - val_loss: 0.4036 - val_acc: 0.8117 - val_recall_1: 0.4062 - val_precision_1: 0.6751 - val_f1_metric: 0.4835\n",
            "Epoch 98/100\n",
            "30769/30769 [==============================] - 1s 46us/sample - loss: 0.3998 - acc: 0.8108 - recall_1: 0.4333 - precision_1: 0.6605 - f1_metric: 0.4968 - val_loss: 0.4031 - val_acc: 0.8112 - val_recall_1: 0.4078 - val_precision_1: 0.6717 - val_f1_metric: 0.4852\n",
            "Epoch 99/100\n",
            "30769/30769 [==============================] - 1s 47us/sample - loss: 0.3994 - acc: 0.8108 - recall_1: 0.4335 - precision_1: 0.6603 - f1_metric: 0.5032 - val_loss: 0.4041 - val_acc: 0.8107 - val_recall_1: 0.3837 - val_precision_1: 0.6839 - val_f1_metric: 0.4662\n",
            "Epoch 100/100\n",
            "30769/30769 [==============================] - 1s 45us/sample - loss: 0.3996 - acc: 0.8114 - recall_1: 0.4314 - precision_1: 0.6636 - f1_metric: 0.4996 - val_loss: 0.4031 - val_acc: 0.8116 - val_recall_1: 0.4186 - val_precision_1: 0.6678 - val_f1_metric: 0.4927\n"
          ]
        }
      ]
    },
    {
      "cell_type": "code",
      "metadata": {
        "id": "YedLvWr4wfNx"
      },
      "source": [
        "data_based = pd.DataFrame(baseline_history.history)\n",
        "data_tuned = pd.DataFrame(tuned_models_history.history)"
      ],
      "execution_count": 13,
      "outputs": []
    },
    {
      "cell_type": "code",
      "metadata": {
        "colab": {
          "base_uri": "https://localhost:8080/",
          "height": 295
        },
        "id": "P7WUuHj_N9B-",
        "outputId": "a431bd5f-171c-4cca-8eab-65fbebe3701d"
      },
      "source": [
        "plt.plot(baseline_history.history['loss'], label='train')\n",
        "plt.plot(baseline_history.history['val_loss'], label='test')\n",
        "plt.title('Learning Curve Baseline Models')\n",
        "plt.ylabel('Loss')\n",
        "plt.xlabel('Epoch')\n",
        "plt.legend(['train', 'test'], loc='upper right')\n",
        "plt.show()\n",
        "# 0.001"
      ],
      "execution_count": 14,
      "outputs": [
        {
          "output_type": "display_data",
          "data": {
            "image/png": "[encoded data removed]",
            "text/plain": [
              "<Figure size 432x288 with 1 Axes>"
            ]
          },
          "metadata": {
            "needs_background": "light"
          }
        }
      ]
    },
    {
      "cell_type": "code",
      "metadata": {
        "colab": {
          "base_uri": "https://localhost:8080/",
          "height": 295
        },
        "id": "EuqmuMtW5cx7",
        "outputId": "1c00963f-8283-4290-b472-9a0db89fe827"
      },
      "source": [
        "plt.plot(tuned_models_history.history['loss'], label='train')\n",
        "plt.plot(tuned_models_history.history['val_loss'], label='test')\n",
        "plt.title('Learning Curve Tuned Models')\n",
        "plt.ylabel('Loss')\n",
        "plt.xlabel('Epoch')\n",
        "plt.legend(['train', 'test'], loc='upper right')\n",
        "plt.show()"
      ],
      "execution_count": 15,
      "outputs": [
        {
          "output_type": "display_data",
          "data": {
            "image/png": "[encoded data removed]",
            "text/plain": [
              "<Figure size 432x288 with 1 Axes>"
            ]
          },
          "metadata": {
            "needs_background": "light"
          }
        }
      ]
    },
    {
      "cell_type": "code",
      "metadata": {
        "colab": {
          "base_uri": "https://localhost:8080/",
          "height": 295
        },
        "id": "eUOpraV7093g",
        "outputId": "18440e30-f889-4a37-9304-62277df35f01"
      },
      "source": [
        "plt.plot(baseline_history.history['acc'], label='base')\n",
        "plt.plot(tuned_models_history.history['acc'], label='tuned')\n",
        "plt.title('Learning Curve Baseline Models VS Tuned Models')\n",
        "plt.ylabel('Loss')\n",
        "plt.xlabel('Epoch')\n",
        "plt.legend(['Base', 'Tuned'], loc='lower right')\n",
        "plt.show()"
      ],
      "execution_count": 16,
      "outputs": [
        {
          "output_type": "display_data",
          "data": {
            "image/png": "[encoded data removed]",
            "text/plain": [
              "<Figure size 432x288 with 1 Axes>"
            ]
          },
          "metadata": {
            "needs_background": "light"
          }
        }
      ]
    },
    {
      "cell_type": "code",
      "metadata": {
        "colab": {
          "base_uri": "https://localhost:8080/",
          "height": 423
        },
        "id": "44IfiYLcXwZr",
        "outputId": "2732ce61-b5a2-497e-ff96-4d1b1d32260f"
      },
      "source": [
        "data_based"
      ],
      "execution_count": 17,
      "outputs": [
        {
          "output_type": "execute_result",
          "data": {
            "text/html": [
              "<div>\n",
              "<style scoped>\n",
              "    .dataframe tbody tr th:only-of-type {\n",
              "        vertical-align: middle;\n",
              "    }\n",
              "\n",
              "    .dataframe tbody tr th {\n",
              "        vertical-align: top;\n",
              "    }\n",
              "\n",
              "    .dataframe thead th {\n",
              "        text-align: right;\n",
              "    }\n",
              "</style>\n",
              "<table border=\"1\" class=\"dataframe\">\n",
              "  <thead>\n",
              "    <tr style=\"text-align: right;\">\n",
              "      <th></th>\n",
              "      <th>loss</th>\n",
              "      <th>acc</th>\n",
              "      <th>recall</th>\n",
              "      <th>precision</th>\n",
              "      <th>f1_metric</th>\n",
              "      <th>val_loss</th>\n",
              "      <th>val_acc</th>\n",
              "      <th>val_recall</th>\n",
              "      <th>val_precision</th>\n",
              "      <th>val_f1_metric</th>\n",
              "    </tr>\n",
              "  </thead>\n",
              "  <tbody>\n",
              "    <tr>\n",
              "      <th>0</th>\n",
              "      <td>0.488244</td>\n",
              "      <td>0.740063</td>\n",
              "      <td>0.074335</td>\n",
              "      <td>0.318235</td>\n",
              "      <td>0.097739</td>\n",
              "      <td>0.429707</td>\n",
              "      <td>0.780558</td>\n",
              "      <td>0.213287</td>\n",
              "      <td>0.615596</td>\n",
              "      <td>0.296821</td>\n",
              "    </tr>\n",
              "    <tr>\n",
              "      <th>1</th>\n",
              "      <td>0.424358</td>\n",
              "      <td>0.797264</td>\n",
              "      <td>0.430277</td>\n",
              "      <td>0.608829</td>\n",
              "      <td>0.478195</td>\n",
              "      <td>0.413400</td>\n",
              "      <td>0.809296</td>\n",
              "      <td>0.468849</td>\n",
              "      <td>0.636050</td>\n",
              "      <td>0.521904</td>\n",
              "    </tr>\n",
              "    <tr>\n",
              "      <th>2</th>\n",
              "      <td>0.413521</td>\n",
              "      <td>0.806851</td>\n",
              "      <td>0.456457</td>\n",
              "      <td>0.634786</td>\n",
              "      <td>0.510159</td>\n",
              "      <td>0.408304</td>\n",
              "      <td>0.807628</td>\n",
              "      <td>0.442467</td>\n",
              "      <td>0.640000</td>\n",
              "      <td>0.500336</td>\n",
              "    </tr>\n",
              "    <tr>\n",
              "      <th>3</th>\n",
              "      <td>0.409826</td>\n",
              "      <td>0.807956</td>\n",
              "      <td>0.445062</td>\n",
              "      <td>0.643459</td>\n",
              "      <td>0.505350</td>\n",
              "      <td>0.406657</td>\n",
              "      <td>0.807856</td>\n",
              "      <td>0.452320</td>\n",
              "      <td>0.636974</td>\n",
              "      <td>0.509907</td>\n",
              "    </tr>\n",
              "    <tr>\n",
              "      <th>4</th>\n",
              "      <td>0.408103</td>\n",
              "      <td>0.808379</td>\n",
              "      <td>0.443842</td>\n",
              "      <td>0.645620</td>\n",
              "      <td>0.503735</td>\n",
              "      <td>0.405969</td>\n",
              "      <td>0.809145</td>\n",
              "      <td>0.419580</td>\n",
              "      <td>0.656390</td>\n",
              "      <td>0.490772</td>\n",
              "    </tr>\n",
              "    <tr>\n",
              "      <th>...</th>\n",
              "      <td>...</td>\n",
              "      <td>...</td>\n",
              "      <td>...</td>\n",
              "      <td>...</td>\n",
              "      <td>...</td>\n",
              "      <td>...</td>\n",
              "      <td>...</td>\n",
              "      <td>...</td>\n",
              "      <td>...</td>\n",
              "      <td>...</td>\n",
              "    </tr>\n",
              "    <tr>\n",
              "      <th>95</th>\n",
              "      <td>0.401354</td>\n",
              "      <td>0.810946</td>\n",
              "      <td>0.430412</td>\n",
              "      <td>0.662283</td>\n",
              "      <td>0.500787</td>\n",
              "      <td>0.402870</td>\n",
              "      <td>0.811268</td>\n",
              "      <td>0.416402</td>\n",
              "      <td>0.667346</td>\n",
              "      <td>0.485738</td>\n",
              "    </tr>\n",
              "    <tr>\n",
              "      <th>96</th>\n",
              "      <td>0.401216</td>\n",
              "      <td>0.810979</td>\n",
              "      <td>0.434753</td>\n",
              "      <td>0.660280</td>\n",
              "      <td>0.500294</td>\n",
              "      <td>0.403826</td>\n",
              "      <td>0.811344</td>\n",
              "      <td>0.394787</td>\n",
              "      <td>0.680175</td>\n",
              "      <td>0.475183</td>\n",
              "    </tr>\n",
              "    <tr>\n",
              "      <th>97</th>\n",
              "      <td>0.401330</td>\n",
              "      <td>0.811141</td>\n",
              "      <td>0.430141</td>\n",
              "      <td>0.663250</td>\n",
              "      <td>0.499220</td>\n",
              "      <td>0.402650</td>\n",
              "      <td>0.811799</td>\n",
              "      <td>0.415448</td>\n",
              "      <td>0.670256</td>\n",
              "      <td>0.490250</td>\n",
              "    </tr>\n",
              "    <tr>\n",
              "      <th>98</th>\n",
              "      <td>0.401266</td>\n",
              "      <td>0.810914</td>\n",
              "      <td>0.431091</td>\n",
              "      <td>0.661808</td>\n",
              "      <td>0.499778</td>\n",
              "      <td>0.402839</td>\n",
              "      <td>0.812557</td>\n",
              "      <td>0.411952</td>\n",
              "      <td>0.675704</td>\n",
              "      <td>0.489466</td>\n",
              "    </tr>\n",
              "    <tr>\n",
              "      <th>99</th>\n",
              "      <td>0.401307</td>\n",
              "      <td>0.811336</td>\n",
              "      <td>0.427564</td>\n",
              "      <td>0.665400</td>\n",
              "      <td>0.497325</td>\n",
              "      <td>0.402649</td>\n",
              "      <td>0.811495</td>\n",
              "      <td>0.439288</td>\n",
              "      <td>0.656844</td>\n",
              "      <td>0.502596</td>\n",
              "    </tr>\n",
              "  </tbody>\n",
              "</table>\n",
              "<p>100 rows × 10 columns</p>\n",
              "</div>"
            ],
            "text/plain": [
              "        loss       acc    recall  ...  val_recall  val_precision  val_f1_metric\n",
              "0   0.488244  0.740063  0.074335  ...    0.213287       0.615596       0.296821\n",
              "1   0.424358  0.797264  0.430277  ...    0.468849       0.636050       0.521904\n",
              "2   0.413521  0.806851  0.456457  ...    0.442467       0.640000       0.500336\n",
              "3   0.409826  0.807956  0.445062  ...    0.452320       0.636974       0.509907\n",
              "4   0.408103  0.808379  0.443842  ...    0.419580       0.656390       0.490772\n",
              "..       ...       ...       ...  ...         ...            ...            ...\n",
              "95  0.401354  0.810946  0.430412  ...    0.416402       0.667346       0.485738\n",
              "96  0.401216  0.810979  0.434753  ...    0.394787       0.680175       0.475183\n",
              "97  0.401330  0.811141  0.430141  ...    0.415448       0.670256       0.490250\n",
              "98  0.401266  0.810914  0.431091  ...    0.411952       0.675704       0.489466\n",
              "99  0.401307  0.811336  0.427564  ...    0.439288       0.656844       0.502596\n",
              "\n",
              "[100 rows x 10 columns]"
            ]
          },
          "metadata": {},
          "execution_count": 17
        }
      ]
    },
    {
      "cell_type": "code",
      "metadata": {
        "id": "uy9bqqNxw0Js",
        "colab": {
          "base_uri": "https://localhost:8080/"
        },
        "outputId": "0750f33d-7dd3-4457-926c-64ad78c0ec38"
      },
      "source": [
        "print(f'Based Models\\nLoss = {data_based.loss.mean()}\\nAccuracy = {data_based.acc.mean()}\\nPrecision = {data_based[models.metrics_names[3]].mean()}\\nRecall = {data_based[models.metrics_names[2]].mean()}\\nF1 Score = {data_based.f1_metric.mean()}\\n-----------------------------')\n",
        "print(f'Tuned Models\\nLoss = {data_tuned.loss.mean()}\\nAccuracy = {data_tuned.acc.mean()}\\nPrecision = {data_tuned[tuned_models.metrics_names[3]].mean()}\\nRecall = {data_tuned[tuned_models.metrics_names[2]].mean()}\\nF1 Score = {data_tuned.f1_metric.mean()}\\n-----------------------------')"
      ],
      "execution_count": 18,
      "outputs": [
        {
          "output_type": "stream",
          "name": "stdout",
          "text": [
            "Based Models\n",
            "Loss = 0.4038012126065527\n",
            "Accuracy = 0.8092186999320984\n",
            "Precision = 0.6515799587965012\n",
            "Recall = 0.4333817161619663\n",
            "F1 Score = 0.49827768199145794\n",
            "-----------------------------\n",
            "Tuned Models\n",
            "Loss = 0.40276360339267425\n",
            "Accuracy = 0.8099216729402542\n",
            "Precision = 0.6564652974903583\n",
            "Recall = 0.4257419953867793\n",
            "F1 Score = 0.49261831283569335\n",
            "-----------------------------\n"
          ]
        }
      ]
    },
    {
      "cell_type": "code",
      "metadata": {
        "id": "kBwa1yczlyBr"
      },
      "source": [
        "X_train, X_test, Y_train, Y_test = train_test_split(x_train, y_train, test_size = 0.3)"
      ],
      "execution_count": null,
      "outputs": []
    },
    {
      "cell_type": "code",
      "metadata": {
        "id": "KFy1vi7R_ODz"
      },
      "source": [
        "temp = tuned_models.evaluate(X_test, Y_test)"
      ],
      "execution_count": null,
      "outputs": []
    },
    {
      "cell_type": "code",
      "metadata": {
        "id": "sBIVso5P_wb-"
      },
      "source": [
        "temp"
      ],
      "execution_count": null,
      "outputs": []
    },
    {
      "cell_type": "code",
      "metadata": {
        "id": "VW8ZQSGo_mqd"
      },
      "source": [
        "plt.plot(baseline_history.history['acc'], label='base')\n",
        "plt.plot(tuned_models_history.history['acc'], label='tuned')\n",
        "plt.title('Learning Curve Baseline Models VS Tuned Models')\n",
        "plt.ylabel('Loss')\n",
        "plt.xlabel('Epoch')\n",
        "plt.legend(['Base', 'Tuned'], loc='lower right')\n",
        "plt.show()"
      ],
      "execution_count": null,
      "outputs": []
    }
  ]
}