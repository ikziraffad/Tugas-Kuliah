{
  "nbformat": 4,
  "nbformat_minor": 0,
  "metadata": {
    "colab": {
      "name": "cahya senpai.ipynb",
      "provenance": [],
      "collapsed_sections": []
    },
    "kernelspec": {
      "name": "python3",
      "display_name": "Python 3"
    },
    "language_info": {
      "name": "python"
    }
  },
  "cells": [
    {
      "cell_type": "markdown",
      "metadata": {
        "id": "mszuOrebzQBv"
      },
      "source": [
        "#**cahya/bert2gpt-indonesian-summarization**"
      ]
    },
    {
      "cell_type": "code",
      "metadata": {
        "colab": {
          "base_uri": "https://localhost:8080/"
        },
        "id": "Gv38spEaf1Vg",
        "outputId": "46bbd726-da70-406a-f327-0db8272b5e7d"
      },
      "source": [
        "from transformers import BertTokenizer, EncoderDecoderModel\n",
        "\n",
        "tokenizer = BertTokenizer.from_pretrained(\"cahya/bert2gpt-indonesian-summarization\")\n",
        "tokenizer.bos_token = tokenizer.cls_token\n",
        "tokenizer.eos_token = tokenizer.sep_token\n",
        "model = EncoderDecoderModel.from_pretrained(\"cahya/bert2gpt-indonesian-summarization\")\n",
        "\n",
        "ARTICLE_TO_SUMMARIZE = input(\"input berita: \")\n",
        "\n",
        "# generate summary\n",
        "input_ids = tokenizer.encode(ARTICLE_TO_SUMMARIZE, return_tensors='pt', padding=True, truncation=True,max_length=5000, add_special_tokens = True)\n",
        "summary_ids = model.generate(input_ids,\n",
        "            min_length=10,\n",
        "            max_length=5000, \n",
        "            num_beams=50,\n",
        "            repetition_penalty=1.5, \n",
        "            length_penalty=10.0, #encourage longer sentence\n",
        "            early_stopping=True,\n",
        "            no_repeat_ngram_size=2,\n",
        "            use_cache=True,\n",
        "            do_sample = True,\n",
        "            temperature = 0.8,\n",
        "            top_k = 70,\n",
        "            top_p = 1.0)\n",
        "\n",
        "summary_text = tokenizer.decode(summary_ids[0], skip_special_tokens=True)\n",
        "print(summary_text)"
      ],
      "execution_count": 27,
      "outputs": [
        {
          "output_type": "stream",
          "text": [
            "input berita: Ketua Umum Asosiasi Pengelola Pusat Belanja Indonesia (APPBI), Alphonzus Widjaja mengingatkan bahwa rencana aturan mengenai penerapan safeguard untuk produk garmen harus dipertimbangkan secara mendalam. Menurutnya, penerapan safeguard produk garmen berpotensi membawa efek negatif terhadap perekonomian, salah satunya akan semakin maraknya barang-barang impor yang masuk Indonesia secara ilegal. Selain itu, aturan safeguard akan sangat berdampak pada barang-barang dari merek ritel global/internasional, yang banyak ditemui di mal-mal. Dengan tambahan biaya barang masuk, maka akan membuat harga barang yang dijual jadi lebih mahal.\n",
            "penerapan safeguard produk garmen harus dipertimbangkan secara mendalam oleh ketua umum asosiasi pengelola pusat belanja indonesia ( appbi ). pasalnya, penerapan ini akan berdampak pada barang - barang impor yang masuk indonesia\n"
          ],
          "name": "stdout"
        }
      ]
    },
    {
      "cell_type": "markdown",
      "metadata": {
        "id": "Z4_CZFItzWgR"
      },
      "source": [
        "#**cahya/t5-base-indonesian-summarization-cased**"
      ]
    }
  ]
}